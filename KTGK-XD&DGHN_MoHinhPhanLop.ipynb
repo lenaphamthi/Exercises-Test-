{
  "nbformat": 4,
  "nbformat_minor": 0,
  "metadata": {
    "colab": {
      "provenance": [],
      "include_colab_link": true
    },
    "kernelspec": {
      "name": "python3",
      "display_name": "Python 3"
    },
    "language_info": {
      "name": "python"
    }
  },
  "cells": [
    {
      "cell_type": "markdown",
      "metadata": {
        "id": "view-in-github",
        "colab_type": "text"
      },
      "source": [
        "<a href=\"https://colab.research.google.com/github/lenaphamthi/TestExercises/blob/main/KTGK-XD%26DGHN_MoHinhPhanLop.ipynb\" target=\"_parent\"><img src=\"https://colab.research.google.com/assets/colab-badge.svg\" alt=\"Open In Colab\"/></a>"
      ]
    },
    {
      "cell_type": "markdown",
      "source": [
        "Đề bài cho 2 tập dữ liệu Breast cancer và Wine. Trong bài làm em phân chia từng tập dữ liệu riêng để xác định dữ liệu cần thiết, xây dựng mô hình,thông báo kết quả, đánh giá, ghi bảng so sánh và cuối cùng nhận xét giữa các mô hình, giúp cho ta dễ dàng quan sát bài làm. Đầu tiên em xác định tập dữ liệu Wine, tiếp theo là tập dữ liệu Breast Cancer."
      ],
      "metadata": {
        "id": "YnmMHD8dhmf7"
      }
    },
    {
      "cell_type": "markdown",
      "source": [
        "**Câu 1 : Tải tập dữ liệu Wine**\n",
        "\n",
        "1. [Wine](https://archive.ics.uci.edu/ml/datasets/Wine)"
      ],
      "metadata": {
        "id": "iNEbDp8JoimP"
      }
    },
    {
      "cell_type": "markdown",
      "source": [
        "Khai báo các thư viện cần thiết"
      ],
      "metadata": {
        "id": "YFUoJfFjZH-g"
      }
    },
    {
      "cell_type": "code",
      "source": [
        "import pandas as pd\n",
        "import numpy as np\n",
        "import matplotlib.pyplot as plt\n",
        "from sklearn.model_selection import train_test_split\n",
        "from sklearn.metrics import accuracy_score\n",
        "from sklearn.metrics import precision_score\n",
        "from sklearn.metrics import recall_score\n",
        "from sklearn.metrics import f1_score\n",
        "from sklearn.model_selection import cross_val_score\n",
        "from sklearn.metrics import confusion_matrix\n",
        "from sklearn.metrics import classification_report\n",
        "from sklearn.linear_model import LogisticRegression\n",
        "from sklearn import neighbors\n",
        "from sklearn.naive_bayes import MultinomialNB"
      ],
      "metadata": {
        "id": "IlBRp4k5ZR3a"
      },
      "execution_count": 86,
      "outputs": []
    },
    {
      "cell_type": "markdown",
      "source": [
        "Đọc tập dữ liệu Wine "
      ],
      "metadata": {
        "id": "uYCNecVwY-FL"
      }
    },
    {
      "cell_type": "code",
      "source": [
        "data_wine = pd.read_csv('/content/wine.data', header = None)\n",
        "data_wine.sample(5)"
      ],
      "metadata": {
        "colab": {
          "base_uri": "https://localhost:8080/",
          "height": 206
        },
        "id": "kmqIJ9ZsZOnG",
        "outputId": "3c290cbb-1ad1-45c6-d5ef-98b1a028a3b1"
      },
      "execution_count": 87,
      "outputs": [
        {
          "output_type": "execute_result",
          "data": {
            "text/plain": [
              "     0      1     2     3     4    5     6     7     8     9    10    11  \\\n",
              "47    1  13.90  1.68  2.12  16.0  101  3.10  3.39  0.21  2.14  6.1  0.91   \n",
              "152   3  13.11  1.90  2.75  25.5  116  2.20  1.28  0.26  1.56  7.1  0.61   \n",
              "107   2  12.72  1.75  2.28  22.5   84  1.38  1.76  0.48  1.63  3.3  0.88   \n",
              "132   3  12.81  2.31  2.40  24.0   98  1.15  1.09  0.27  0.83  5.7  0.66   \n",
              "141   3  13.36  2.56  2.35  20.0   89  1.40  0.50  0.37  0.64  5.6  0.70   \n",
              "\n",
              "       12   13  \n",
              "47   3.33  985  \n",
              "152  1.33  425  \n",
              "107  2.42  488  \n",
              "132  1.36  560  \n",
              "141  2.47  780  "
            ],
            "text/html": [
              "\n",
              "  <div id=\"df-452b27ae-24cf-4017-930c-fdc3aac44f30\">\n",
              "    <div class=\"colab-df-container\">\n",
              "      <div>\n",
              "<style scoped>\n",
              "    .dataframe tbody tr th:only-of-type {\n",
              "        vertical-align: middle;\n",
              "    }\n",
              "\n",
              "    .dataframe tbody tr th {\n",
              "        vertical-align: top;\n",
              "    }\n",
              "\n",
              "    .dataframe thead th {\n",
              "        text-align: right;\n",
              "    }\n",
              "</style>\n",
              "<table border=\"1\" class=\"dataframe\">\n",
              "  <thead>\n",
              "    <tr style=\"text-align: right;\">\n",
              "      <th></th>\n",
              "      <th>0</th>\n",
              "      <th>1</th>\n",
              "      <th>2</th>\n",
              "      <th>3</th>\n",
              "      <th>4</th>\n",
              "      <th>5</th>\n",
              "      <th>6</th>\n",
              "      <th>7</th>\n",
              "      <th>8</th>\n",
              "      <th>9</th>\n",
              "      <th>10</th>\n",
              "      <th>11</th>\n",
              "      <th>12</th>\n",
              "      <th>13</th>\n",
              "    </tr>\n",
              "  </thead>\n",
              "  <tbody>\n",
              "    <tr>\n",
              "      <th>47</th>\n",
              "      <td>1</td>\n",
              "      <td>13.90</td>\n",
              "      <td>1.68</td>\n",
              "      <td>2.12</td>\n",
              "      <td>16.0</td>\n",
              "      <td>101</td>\n",
              "      <td>3.10</td>\n",
              "      <td>3.39</td>\n",
              "      <td>0.21</td>\n",
              "      <td>2.14</td>\n",
              "      <td>6.1</td>\n",
              "      <td>0.91</td>\n",
              "      <td>3.33</td>\n",
              "      <td>985</td>\n",
              "    </tr>\n",
              "    <tr>\n",
              "      <th>152</th>\n",
              "      <td>3</td>\n",
              "      <td>13.11</td>\n",
              "      <td>1.90</td>\n",
              "      <td>2.75</td>\n",
              "      <td>25.5</td>\n",
              "      <td>116</td>\n",
              "      <td>2.20</td>\n",
              "      <td>1.28</td>\n",
              "      <td>0.26</td>\n",
              "      <td>1.56</td>\n",
              "      <td>7.1</td>\n",
              "      <td>0.61</td>\n",
              "      <td>1.33</td>\n",
              "      <td>425</td>\n",
              "    </tr>\n",
              "    <tr>\n",
              "      <th>107</th>\n",
              "      <td>2</td>\n",
              "      <td>12.72</td>\n",
              "      <td>1.75</td>\n",
              "      <td>2.28</td>\n",
              "      <td>22.5</td>\n",
              "      <td>84</td>\n",
              "      <td>1.38</td>\n",
              "      <td>1.76</td>\n",
              "      <td>0.48</td>\n",
              "      <td>1.63</td>\n",
              "      <td>3.3</td>\n",
              "      <td>0.88</td>\n",
              "      <td>2.42</td>\n",
              "      <td>488</td>\n",
              "    </tr>\n",
              "    <tr>\n",
              "      <th>132</th>\n",
              "      <td>3</td>\n",
              "      <td>12.81</td>\n",
              "      <td>2.31</td>\n",
              "      <td>2.40</td>\n",
              "      <td>24.0</td>\n",
              "      <td>98</td>\n",
              "      <td>1.15</td>\n",
              "      <td>1.09</td>\n",
              "      <td>0.27</td>\n",
              "      <td>0.83</td>\n",
              "      <td>5.7</td>\n",
              "      <td>0.66</td>\n",
              "      <td>1.36</td>\n",
              "      <td>560</td>\n",
              "    </tr>\n",
              "    <tr>\n",
              "      <th>141</th>\n",
              "      <td>3</td>\n",
              "      <td>13.36</td>\n",
              "      <td>2.56</td>\n",
              "      <td>2.35</td>\n",
              "      <td>20.0</td>\n",
              "      <td>89</td>\n",
              "      <td>1.40</td>\n",
              "      <td>0.50</td>\n",
              "      <td>0.37</td>\n",
              "      <td>0.64</td>\n",
              "      <td>5.6</td>\n",
              "      <td>0.70</td>\n",
              "      <td>2.47</td>\n",
              "      <td>780</td>\n",
              "    </tr>\n",
              "  </tbody>\n",
              "</table>\n",
              "</div>\n",
              "      <button class=\"colab-df-convert\" onclick=\"convertToInteractive('df-452b27ae-24cf-4017-930c-fdc3aac44f30')\"\n",
              "              title=\"Convert this dataframe to an interactive table.\"\n",
              "              style=\"display:none;\">\n",
              "        \n",
              "  <svg xmlns=\"http://www.w3.org/2000/svg\" height=\"24px\"viewBox=\"0 0 24 24\"\n",
              "       width=\"24px\">\n",
              "    <path d=\"M0 0h24v24H0V0z\" fill=\"none\"/>\n",
              "    <path d=\"M18.56 5.44l.94 2.06.94-2.06 2.06-.94-2.06-.94-.94-2.06-.94 2.06-2.06.94zm-11 1L8.5 8.5l.94-2.06 2.06-.94-2.06-.94L8.5 2.5l-.94 2.06-2.06.94zm10 10l.94 2.06.94-2.06 2.06-.94-2.06-.94-.94-2.06-.94 2.06-2.06.94z\"/><path d=\"M17.41 7.96l-1.37-1.37c-.4-.4-.92-.59-1.43-.59-.52 0-1.04.2-1.43.59L10.3 9.45l-7.72 7.72c-.78.78-.78 2.05 0 2.83L4 21.41c.39.39.9.59 1.41.59.51 0 1.02-.2 1.41-.59l7.78-7.78 2.81-2.81c.8-.78.8-2.07 0-2.86zM5.41 20L4 18.59l7.72-7.72 1.47 1.35L5.41 20z\"/>\n",
              "  </svg>\n",
              "      </button>\n",
              "      \n",
              "  <style>\n",
              "    .colab-df-container {\n",
              "      display:flex;\n",
              "      flex-wrap:wrap;\n",
              "      gap: 12px;\n",
              "    }\n",
              "\n",
              "    .colab-df-convert {\n",
              "      background-color: #E8F0FE;\n",
              "      border: none;\n",
              "      border-radius: 50%;\n",
              "      cursor: pointer;\n",
              "      display: none;\n",
              "      fill: #1967D2;\n",
              "      height: 32px;\n",
              "      padding: 0 0 0 0;\n",
              "      width: 32px;\n",
              "    }\n",
              "\n",
              "    .colab-df-convert:hover {\n",
              "      background-color: #E2EBFA;\n",
              "      box-shadow: 0px 1px 2px rgba(60, 64, 67, 0.3), 0px 1px 3px 1px rgba(60, 64, 67, 0.15);\n",
              "      fill: #174EA6;\n",
              "    }\n",
              "\n",
              "    [theme=dark] .colab-df-convert {\n",
              "      background-color: #3B4455;\n",
              "      fill: #D2E3FC;\n",
              "    }\n",
              "\n",
              "    [theme=dark] .colab-df-convert:hover {\n",
              "      background-color: #434B5C;\n",
              "      box-shadow: 0px 1px 3px 1px rgba(0, 0, 0, 0.15);\n",
              "      filter: drop-shadow(0px 1px 2px rgba(0, 0, 0, 0.3));\n",
              "      fill: #FFFFFF;\n",
              "    }\n",
              "  </style>\n",
              "\n",
              "      <script>\n",
              "        const buttonEl =\n",
              "          document.querySelector('#df-452b27ae-24cf-4017-930c-fdc3aac44f30 button.colab-df-convert');\n",
              "        buttonEl.style.display =\n",
              "          google.colab.kernel.accessAllowed ? 'block' : 'none';\n",
              "\n",
              "        async function convertToInteractive(key) {\n",
              "          const element = document.querySelector('#df-452b27ae-24cf-4017-930c-fdc3aac44f30');\n",
              "          const dataTable =\n",
              "            await google.colab.kernel.invokeFunction('convertToInteractive',\n",
              "                                                     [key], {});\n",
              "          if (!dataTable) return;\n",
              "\n",
              "          const docLinkHtml = 'Like what you see? Visit the ' +\n",
              "            '<a target=\"_blank\" href=https://colab.research.google.com/notebooks/data_table.ipynb>data table notebook</a>'\n",
              "            + ' to learn more about interactive tables.';\n",
              "          element.innerHTML = '';\n",
              "          dataTable['output_type'] = 'display_data';\n",
              "          await google.colab.output.renderOutput(dataTable, element);\n",
              "          const docLink = document.createElement('div');\n",
              "          docLink.innerHTML = docLinkHtml;\n",
              "          element.appendChild(docLink);\n",
              "        }\n",
              "      </script>\n",
              "    </div>\n",
              "  </div>\n",
              "  "
            ]
          },
          "metadata": {},
          "execution_count": 87
        }
      ]
    },
    {
      "cell_type": "markdown",
      "source": [
        "\n",
        "Khai báo các thuộc tính của tập dữ liệu \n",
        "\n",
        " \t1) Alcohol\n",
        " \t2) Malic acid\n",
        " \t3) Ash\n",
        " \t4) Alcalinity of ash  \n",
        " \t5) Magnesium\n",
        " \t6) Total phenols\n",
        " \t7) Flavanoids\n",
        " \t8) Nonflavanoid phenols\n",
        " \t9) Proanthocyanins\n",
        " \t10)Color intensity\n",
        " \t11)Hue\n",
        " \t12)OD280/OD315 of diluted wines\n",
        " \t13)Proline            \n"
      ],
      "metadata": {
        "id": "-Opd8pH2ZlYS"
      }
    },
    {
      "cell_type": "markdown",
      "source": [
        "Chỉnh sửa tên các thuộc tính của tập dữ liệu"
      ],
      "metadata": {
        "id": "GZa_KBVtZ4_G"
      }
    },
    {
      "cell_type": "code",
      "source": [
        "data_wine.columns = ['Label', 'Alcohol', 'Malic acid', 'Ash', \n",
        "                     'Alcalinity_of_ash', 'Magnesium', \n",
        "                     'Total_phenols', 'Flavanoids', 'Nonflavanoid_phenols',\n",
        "                     'Proanthocyanins', 'Color_intensity', 'Hue',\n",
        "                     'OD280/OD315_of_diluted_wines', 'Proline']\n",
        "data_wine.sample(5)"
      ],
      "metadata": {
        "colab": {
          "base_uri": "https://localhost:8080/",
          "height": 287
        },
        "id": "_nHshLs0Zknc",
        "outputId": "7762c3f1-000d-40bd-b1a5-7791f676f7ab"
      },
      "execution_count": 88,
      "outputs": [
        {
          "output_type": "execute_result",
          "data": {
            "text/plain": [
              "     Label  Alcohol  Malic acid   Ash  Alcalinity_of_ash  Magnesium  \\\n",
              "79       2    12.70        3.87  2.40               23.0        101   \n",
              "106      2    12.25        1.73  2.12               19.0         80   \n",
              "41       1    13.41        3.84  2.12               18.8         90   \n",
              "44       1    13.05        1.77  2.10               17.0        107   \n",
              "127      2    11.79        2.13  2.78               28.5         92   \n",
              "\n",
              "     Total_phenols  Flavanoids  Nonflavanoid_phenols  Proanthocyanins  \\\n",
              "79            2.83        2.55                  0.43             1.95   \n",
              "106           1.65        2.03                  0.37             1.63   \n",
              "41            2.45        2.68                  0.27             1.48   \n",
              "44            3.00        3.00                  0.28             2.03   \n",
              "127           2.13        2.24                  0.58             1.76   \n",
              "\n",
              "     Color_intensity   Hue  OD280/OD315_of_diluted_wines  Proline  \n",
              "79              2.57  1.19                          3.13      463  \n",
              "106             3.40  1.00                          3.17      510  \n",
              "41              4.28  0.91                          3.00     1035  \n",
              "44              5.04  0.88                          3.35      885  \n",
              "127             3.00  0.97                          2.44      466  "
            ],
            "text/html": [
              "\n",
              "  <div id=\"df-1c2c30b0-97a4-40dc-9fff-09705c324e72\">\n",
              "    <div class=\"colab-df-container\">\n",
              "      <div>\n",
              "<style scoped>\n",
              "    .dataframe tbody tr th:only-of-type {\n",
              "        vertical-align: middle;\n",
              "    }\n",
              "\n",
              "    .dataframe tbody tr th {\n",
              "        vertical-align: top;\n",
              "    }\n",
              "\n",
              "    .dataframe thead th {\n",
              "        text-align: right;\n",
              "    }\n",
              "</style>\n",
              "<table border=\"1\" class=\"dataframe\">\n",
              "  <thead>\n",
              "    <tr style=\"text-align: right;\">\n",
              "      <th></th>\n",
              "      <th>Label</th>\n",
              "      <th>Alcohol</th>\n",
              "      <th>Malic acid</th>\n",
              "      <th>Ash</th>\n",
              "      <th>Alcalinity_of_ash</th>\n",
              "      <th>Magnesium</th>\n",
              "      <th>Total_phenols</th>\n",
              "      <th>Flavanoids</th>\n",
              "      <th>Nonflavanoid_phenols</th>\n",
              "      <th>Proanthocyanins</th>\n",
              "      <th>Color_intensity</th>\n",
              "      <th>Hue</th>\n",
              "      <th>OD280/OD315_of_diluted_wines</th>\n",
              "      <th>Proline</th>\n",
              "    </tr>\n",
              "  </thead>\n",
              "  <tbody>\n",
              "    <tr>\n",
              "      <th>79</th>\n",
              "      <td>2</td>\n",
              "      <td>12.70</td>\n",
              "      <td>3.87</td>\n",
              "      <td>2.40</td>\n",
              "      <td>23.0</td>\n",
              "      <td>101</td>\n",
              "      <td>2.83</td>\n",
              "      <td>2.55</td>\n",
              "      <td>0.43</td>\n",
              "      <td>1.95</td>\n",
              "      <td>2.57</td>\n",
              "      <td>1.19</td>\n",
              "      <td>3.13</td>\n",
              "      <td>463</td>\n",
              "    </tr>\n",
              "    <tr>\n",
              "      <th>106</th>\n",
              "      <td>2</td>\n",
              "      <td>12.25</td>\n",
              "      <td>1.73</td>\n",
              "      <td>2.12</td>\n",
              "      <td>19.0</td>\n",
              "      <td>80</td>\n",
              "      <td>1.65</td>\n",
              "      <td>2.03</td>\n",
              "      <td>0.37</td>\n",
              "      <td>1.63</td>\n",
              "      <td>3.40</td>\n",
              "      <td>1.00</td>\n",
              "      <td>3.17</td>\n",
              "      <td>510</td>\n",
              "    </tr>\n",
              "    <tr>\n",
              "      <th>41</th>\n",
              "      <td>1</td>\n",
              "      <td>13.41</td>\n",
              "      <td>3.84</td>\n",
              "      <td>2.12</td>\n",
              "      <td>18.8</td>\n",
              "      <td>90</td>\n",
              "      <td>2.45</td>\n",
              "      <td>2.68</td>\n",
              "      <td>0.27</td>\n",
              "      <td>1.48</td>\n",
              "      <td>4.28</td>\n",
              "      <td>0.91</td>\n",
              "      <td>3.00</td>\n",
              "      <td>1035</td>\n",
              "    </tr>\n",
              "    <tr>\n",
              "      <th>44</th>\n",
              "      <td>1</td>\n",
              "      <td>13.05</td>\n",
              "      <td>1.77</td>\n",
              "      <td>2.10</td>\n",
              "      <td>17.0</td>\n",
              "      <td>107</td>\n",
              "      <td>3.00</td>\n",
              "      <td>3.00</td>\n",
              "      <td>0.28</td>\n",
              "      <td>2.03</td>\n",
              "      <td>5.04</td>\n",
              "      <td>0.88</td>\n",
              "      <td>3.35</td>\n",
              "      <td>885</td>\n",
              "    </tr>\n",
              "    <tr>\n",
              "      <th>127</th>\n",
              "      <td>2</td>\n",
              "      <td>11.79</td>\n",
              "      <td>2.13</td>\n",
              "      <td>2.78</td>\n",
              "      <td>28.5</td>\n",
              "      <td>92</td>\n",
              "      <td>2.13</td>\n",
              "      <td>2.24</td>\n",
              "      <td>0.58</td>\n",
              "      <td>1.76</td>\n",
              "      <td>3.00</td>\n",
              "      <td>0.97</td>\n",
              "      <td>2.44</td>\n",
              "      <td>466</td>\n",
              "    </tr>\n",
              "  </tbody>\n",
              "</table>\n",
              "</div>\n",
              "      <button class=\"colab-df-convert\" onclick=\"convertToInteractive('df-1c2c30b0-97a4-40dc-9fff-09705c324e72')\"\n",
              "              title=\"Convert this dataframe to an interactive table.\"\n",
              "              style=\"display:none;\">\n",
              "        \n",
              "  <svg xmlns=\"http://www.w3.org/2000/svg\" height=\"24px\"viewBox=\"0 0 24 24\"\n",
              "       width=\"24px\">\n",
              "    <path d=\"M0 0h24v24H0V0z\" fill=\"none\"/>\n",
              "    <path d=\"M18.56 5.44l.94 2.06.94-2.06 2.06-.94-2.06-.94-.94-2.06-.94 2.06-2.06.94zm-11 1L8.5 8.5l.94-2.06 2.06-.94-2.06-.94L8.5 2.5l-.94 2.06-2.06.94zm10 10l.94 2.06.94-2.06 2.06-.94-2.06-.94-.94-2.06-.94 2.06-2.06.94z\"/><path d=\"M17.41 7.96l-1.37-1.37c-.4-.4-.92-.59-1.43-.59-.52 0-1.04.2-1.43.59L10.3 9.45l-7.72 7.72c-.78.78-.78 2.05 0 2.83L4 21.41c.39.39.9.59 1.41.59.51 0 1.02-.2 1.41-.59l7.78-7.78 2.81-2.81c.8-.78.8-2.07 0-2.86zM5.41 20L4 18.59l7.72-7.72 1.47 1.35L5.41 20z\"/>\n",
              "  </svg>\n",
              "      </button>\n",
              "      \n",
              "  <style>\n",
              "    .colab-df-container {\n",
              "      display:flex;\n",
              "      flex-wrap:wrap;\n",
              "      gap: 12px;\n",
              "    }\n",
              "\n",
              "    .colab-df-convert {\n",
              "      background-color: #E8F0FE;\n",
              "      border: none;\n",
              "      border-radius: 50%;\n",
              "      cursor: pointer;\n",
              "      display: none;\n",
              "      fill: #1967D2;\n",
              "      height: 32px;\n",
              "      padding: 0 0 0 0;\n",
              "      width: 32px;\n",
              "    }\n",
              "\n",
              "    .colab-df-convert:hover {\n",
              "      background-color: #E2EBFA;\n",
              "      box-shadow: 0px 1px 2px rgba(60, 64, 67, 0.3), 0px 1px 3px 1px rgba(60, 64, 67, 0.15);\n",
              "      fill: #174EA6;\n",
              "    }\n",
              "\n",
              "    [theme=dark] .colab-df-convert {\n",
              "      background-color: #3B4455;\n",
              "      fill: #D2E3FC;\n",
              "    }\n",
              "\n",
              "    [theme=dark] .colab-df-convert:hover {\n",
              "      background-color: #434B5C;\n",
              "      box-shadow: 0px 1px 3px 1px rgba(0, 0, 0, 0.15);\n",
              "      filter: drop-shadow(0px 1px 2px rgba(0, 0, 0, 0.3));\n",
              "      fill: #FFFFFF;\n",
              "    }\n",
              "  </style>\n",
              "\n",
              "      <script>\n",
              "        const buttonEl =\n",
              "          document.querySelector('#df-1c2c30b0-97a4-40dc-9fff-09705c324e72 button.colab-df-convert');\n",
              "        buttonEl.style.display =\n",
              "          google.colab.kernel.accessAllowed ? 'block' : 'none';\n",
              "\n",
              "        async function convertToInteractive(key) {\n",
              "          const element = document.querySelector('#df-1c2c30b0-97a4-40dc-9fff-09705c324e72');\n",
              "          const dataTable =\n",
              "            await google.colab.kernel.invokeFunction('convertToInteractive',\n",
              "                                                     [key], {});\n",
              "          if (!dataTable) return;\n",
              "\n",
              "          const docLinkHtml = 'Like what you see? Visit the ' +\n",
              "            '<a target=\"_blank\" href=https://colab.research.google.com/notebooks/data_table.ipynb>data table notebook</a>'\n",
              "            + ' to learn more about interactive tables.';\n",
              "          element.innerHTML = '';\n",
              "          dataTable['output_type'] = 'display_data';\n",
              "          await google.colab.output.renderOutput(dataTable, element);\n",
              "          const docLink = document.createElement('div');\n",
              "          docLink.innerHTML = docLinkHtml;\n",
              "          element.appendChild(docLink);\n",
              "        }\n",
              "      </script>\n",
              "    </div>\n",
              "  </div>\n",
              "  "
            ]
          },
          "metadata": {},
          "execution_count": 88
        }
      ]
    },
    {
      "cell_type": "markdown",
      "source": [
        "**Câu 2: Xác định tập dữ liệu Wine**\n",
        "\n",
        "*1. Thuộc tính nào đóng vai trò nhãn lớp?*\n",
        "\n",
        "Trả lời: Label\n",
        "\n",
        "*2. Tập dữ liệu nào phục vụ bài toán phân lớp nhị phân? Bài toán nào phân lớp đa nhãn?*\n",
        "\n",
        "Trả lời: Tập dữ liệu Wine phục vụ bài toán phân lớp đa nhãn \n",
        "\n",
        "*3. Thuộc tính nào không cần thiết trong huấn luyện mô hình?*\n",
        "\n",
        "Trả lời: Label "
      ],
      "metadata": {
        "id": "vE3I19Ycw6dT"
      }
    },
    {
      "cell_type": "markdown",
      "source": [
        "**Câu 3: Xây dựng mô hình phân lớp LogisticRegression, k-NN và Naive Bays cho 2 tập dữ liệu trên. Yêu cầu:**\n"
      ],
      "metadata": {
        "id": "HfNsZuCtp8rh"
      }
    },
    {
      "cell_type": "markdown",
      "source": [
        "*1. Xác định nhãn lớp có cân bằng không?*\n",
        "\n",
        "Trả lời : Các nhãn lớp không cân bằng "
      ],
      "metadata": {
        "id": "aAgTXjlvqRYu"
      }
    },
    {
      "cell_type": "code",
      "execution_count": 89,
      "metadata": {
        "id": "jLyXE9URoDrg",
        "colab": {
          "base_uri": "https://localhost:8080/",
          "height": 175
        },
        "outputId": "0d037379-446c-4229-fb12-ed93b5977346"
      },
      "outputs": [
        {
          "output_type": "execute_result",
          "data": {
            "text/plain": [
              "       Times\n",
              "Label       \n",
              "1         59\n",
              "2         71\n",
              "3         48"
            ],
            "text/html": [
              "\n",
              "  <div id=\"df-80462a25-39a9-4050-8bdd-ad5bf0b05e6b\">\n",
              "    <div class=\"colab-df-container\">\n",
              "      <div>\n",
              "<style scoped>\n",
              "    .dataframe tbody tr th:only-of-type {\n",
              "        vertical-align: middle;\n",
              "    }\n",
              "\n",
              "    .dataframe tbody tr th {\n",
              "        vertical-align: top;\n",
              "    }\n",
              "\n",
              "    .dataframe thead th {\n",
              "        text-align: right;\n",
              "    }\n",
              "</style>\n",
              "<table border=\"1\" class=\"dataframe\">\n",
              "  <thead>\n",
              "    <tr style=\"text-align: right;\">\n",
              "      <th></th>\n",
              "      <th>Times</th>\n",
              "    </tr>\n",
              "    <tr>\n",
              "      <th>Label</th>\n",
              "      <th></th>\n",
              "    </tr>\n",
              "  </thead>\n",
              "  <tbody>\n",
              "    <tr>\n",
              "      <th>1</th>\n",
              "      <td>59</td>\n",
              "    </tr>\n",
              "    <tr>\n",
              "      <th>2</th>\n",
              "      <td>71</td>\n",
              "    </tr>\n",
              "    <tr>\n",
              "      <th>3</th>\n",
              "      <td>48</td>\n",
              "    </tr>\n",
              "  </tbody>\n",
              "</table>\n",
              "</div>\n",
              "      <button class=\"colab-df-convert\" onclick=\"convertToInteractive('df-80462a25-39a9-4050-8bdd-ad5bf0b05e6b')\"\n",
              "              title=\"Convert this dataframe to an interactive table.\"\n",
              "              style=\"display:none;\">\n",
              "        \n",
              "  <svg xmlns=\"http://www.w3.org/2000/svg\" height=\"24px\"viewBox=\"0 0 24 24\"\n",
              "       width=\"24px\">\n",
              "    <path d=\"M0 0h24v24H0V0z\" fill=\"none\"/>\n",
              "    <path d=\"M18.56 5.44l.94 2.06.94-2.06 2.06-.94-2.06-.94-.94-2.06-.94 2.06-2.06.94zm-11 1L8.5 8.5l.94-2.06 2.06-.94-2.06-.94L8.5 2.5l-.94 2.06-2.06.94zm10 10l.94 2.06.94-2.06 2.06-.94-2.06-.94-.94-2.06-.94 2.06-2.06.94z\"/><path d=\"M17.41 7.96l-1.37-1.37c-.4-.4-.92-.59-1.43-.59-.52 0-1.04.2-1.43.59L10.3 9.45l-7.72 7.72c-.78.78-.78 2.05 0 2.83L4 21.41c.39.39.9.59 1.41.59.51 0 1.02-.2 1.41-.59l7.78-7.78 2.81-2.81c.8-.78.8-2.07 0-2.86zM5.41 20L4 18.59l7.72-7.72 1.47 1.35L5.41 20z\"/>\n",
              "  </svg>\n",
              "      </button>\n",
              "      \n",
              "  <style>\n",
              "    .colab-df-container {\n",
              "      display:flex;\n",
              "      flex-wrap:wrap;\n",
              "      gap: 12px;\n",
              "    }\n",
              "\n",
              "    .colab-df-convert {\n",
              "      background-color: #E8F0FE;\n",
              "      border: none;\n",
              "      border-radius: 50%;\n",
              "      cursor: pointer;\n",
              "      display: none;\n",
              "      fill: #1967D2;\n",
              "      height: 32px;\n",
              "      padding: 0 0 0 0;\n",
              "      width: 32px;\n",
              "    }\n",
              "\n",
              "    .colab-df-convert:hover {\n",
              "      background-color: #E2EBFA;\n",
              "      box-shadow: 0px 1px 2px rgba(60, 64, 67, 0.3), 0px 1px 3px 1px rgba(60, 64, 67, 0.15);\n",
              "      fill: #174EA6;\n",
              "    }\n",
              "\n",
              "    [theme=dark] .colab-df-convert {\n",
              "      background-color: #3B4455;\n",
              "      fill: #D2E3FC;\n",
              "    }\n",
              "\n",
              "    [theme=dark] .colab-df-convert:hover {\n",
              "      background-color: #434B5C;\n",
              "      box-shadow: 0px 1px 3px 1px rgba(0, 0, 0, 0.15);\n",
              "      filter: drop-shadow(0px 1px 2px rgba(0, 0, 0, 0.3));\n",
              "      fill: #FFFFFF;\n",
              "    }\n",
              "  </style>\n",
              "\n",
              "      <script>\n",
              "        const buttonEl =\n",
              "          document.querySelector('#df-80462a25-39a9-4050-8bdd-ad5bf0b05e6b button.colab-df-convert');\n",
              "        buttonEl.style.display =\n",
              "          google.colab.kernel.accessAllowed ? 'block' : 'none';\n",
              "\n",
              "        async function convertToInteractive(key) {\n",
              "          const element = document.querySelector('#df-80462a25-39a9-4050-8bdd-ad5bf0b05e6b');\n",
              "          const dataTable =\n",
              "            await google.colab.kernel.invokeFunction('convertToInteractive',\n",
              "                                                     [key], {});\n",
              "          if (!dataTable) return;\n",
              "\n",
              "          const docLinkHtml = 'Like what you see? Visit the ' +\n",
              "            '<a target=\"_blank\" href=https://colab.research.google.com/notebooks/data_table.ipynb>data table notebook</a>'\n",
              "            + ' to learn more about interactive tables.';\n",
              "          element.innerHTML = '';\n",
              "          dataTable['output_type'] = 'display_data';\n",
              "          await google.colab.output.renderOutput(dataTable, element);\n",
              "          const docLink = document.createElement('div');\n",
              "          docLink.innerHTML = docLinkHtml;\n",
              "          element.appendChild(docLink);\n",
              "        }\n",
              "      </script>\n",
              "    </div>\n",
              "  </div>\n",
              "  "
            ]
          },
          "metadata": {},
          "execution_count": 89
        }
      ],
      "source": [
        "fre = data_wine[['Alcohol', 'Label']].groupby(['Label']).count()\n",
        "fre.columns = ['Times']\n",
        "fre"
      ]
    },
    {
      "cell_type": "markdown",
      "source": [
        "Xác định các dữ liệu đầu vào "
      ],
      "metadata": {
        "id": "Kv9EFdgKdf_r"
      }
    },
    {
      "cell_type": "code",
      "source": [
        "X = data_wine[['Alcohol', 'Malic acid', 'Ash', \n",
        "                     'Alcalinity_of_ash', 'Magnesium', \n",
        "                     'Total_phenols', 'Flavanoids', 'Nonflavanoid_phenols',\n",
        "                     'Proanthocyanins', 'Color_intensity', 'Hue',\n",
        "                     'OD280/OD315_of_diluted_wines', 'Proline']].values\n",
        "y = data_wine['Label'].values\n",
        "#Ban đầu ta có các nhãn lớp mặc định là 1,2,3. \n",
        "#Ta đổi các nhãn thành 0,1,2 cho phù hợp với mô hình bằng cách -1\n",
        "y = y - 1\n",
        "print(X.shape)\n",
        "print(y.shape)"
      ],
      "metadata": {
        "colab": {
          "base_uri": "https://localhost:8080/"
        },
        "id": "XaHIjOZgdjIO",
        "outputId": "b6854678-4b0b-4934-da10-880211621828"
      },
      "execution_count": 90,
      "outputs": [
        {
          "output_type": "stream",
          "name": "stdout",
          "text": [
            "(178, 13)\n",
            "(178,)\n"
          ]
        }
      ]
    },
    {
      "cell_type": "markdown",
      "source": [
        "*2.Phân chia train - test theo tỉ lệ 80% - 20% có cần thực hiện xáo trộn dữ liệu hay không?*\n",
        "\n",
        "Trả lời : Phân chia train - test theo tỉ lệ 80% - 20% cần thực hiện xáo trộn dữ liệu\n"
      ],
      "metadata": {
        "id": "lOKbnl1UqZKC"
      }
    },
    {
      "cell_type": "code",
      "source": [
        "X_train, X_test, y_train, y_test = train_test_split(\n",
        "      X, y, test_size=0.2, random_state=4, shuffle = True,stratify=y)\n",
        "print('Kích thước dữ liệu train - test:')\n",
        "print(\"\\t\\tX train: \", X_train.shape, \"; y train: \",y_train.shape)\n",
        "print(\"\\t\\tX test: \", X_test.shape, \"; y test: \",y_test.shape)"
      ],
      "metadata": {
        "id": "N4yOFz7IqrHl",
        "colab": {
          "base_uri": "https://localhost:8080/"
        },
        "outputId": "f4ceca15-4066-495c-d0b3-f4cb6c98aa9a"
      },
      "execution_count": 91,
      "outputs": [
        {
          "output_type": "stream",
          "name": "stdout",
          "text": [
            "Kích thước dữ liệu train - test:\n",
            "\t\tX train:  (142, 13) ; y train:  (142,)\n",
            "\t\tX test:  (36, 13) ; y test:  (36,)\n"
          ]
        }
      ]
    },
    {
      "cell_type": "markdown",
      "source": [
        "Huấn luyện mô hình k-NN \n"
      ],
      "metadata": {
        "id": "r_BTcdYell3F"
      }
    },
    {
      "cell_type": "code",
      "source": [
        "knn_wine = neighbors.KNeighborsClassifier(n_neighbors = 1, p = 3)\n",
        "knn_wine.fit(X_train, y_train)\n",
        "y_pred_knn_wine= knn_wine.predict(X_test)"
      ],
      "metadata": {
        "id": "x_i0vNykl0-S"
      },
      "execution_count": 92,
      "outputs": []
    },
    {
      "cell_type": "markdown",
      "source": [
        "Huấn luyện mô hình Naive Bayes"
      ],
      "metadata": {
        "id": "-foz4nBtlqOE"
      }
    },
    {
      "cell_type": "code",
      "source": [
        "mnb_wine = MultinomialNB()\n",
        "mnb_wine.fit(X_train, y_train)\n",
        "y_pred_nb_wine = mnb_wine.predict(X_test)"
      ],
      "metadata": {
        "id": "PlCOvv_fmBaU"
      },
      "execution_count": 103,
      "outputs": []
    },
    {
      "cell_type": "markdown",
      "source": [
        "*3. Thông báo kết quả **10-fold CV** của **quá trình huấn luyện** từng mô hình (sử dụng **cross_val_scores**)*"
      ],
      "metadata": {
        "id": "NHwgukJYqXRr"
      }
    },
    {
      "cell_type": "markdown",
      "source": [
        "Cross-validation là một phương pháp kiểm tra độ chính xác của 1 máy học dựa trên một tập dữ liệu học cho trước"
      ],
      "metadata": {
        "id": "3jasZt26Nl_t"
      }
    },
    {
      "cell_type": "markdown",
      "source": [
        "Quá trình huấn luyện mô hình k-NN "
      ],
      "metadata": {
        "id": "cgp_wpGemTIP"
      }
    },
    {
      "cell_type": "code",
      "source": [
        "#Hàm chạy k_fold mặc định là 10-fold\n",
        "#sử dụng cross_val_scores in ra 10-fold CV \n",
        "def k_fold(model, X, y, cv = 10):\n",
        "  accuracy_list = cross_val_score(model, X, y, cv=10)\n",
        "  print('* Chi tiết các fold')\n",
        "  for i in range(0, len(accuracy_list)):\n",
        "    print(f'> Fold {i+1}  - Accuracy: {accuracy_list[i]}')\n",
        "\n",
        "  print('* Đánh giá tổng thể các folds: ')\n",
        "  print(f'> Accuracy: {np.mean(accuracy_list)} (Độ lệch +- {np.std(accuracy_list)})')"
      ],
      "metadata": {
        "id": "wrtB-xw0iqrC"
      },
      "execution_count": 93,
      "outputs": []
    },
    {
      "cell_type": "code",
      "source": [
        "k_fold(knn_wine, X, y)"
      ],
      "metadata": {
        "colab": {
          "base_uri": "https://localhost:8080/"
        },
        "id": "pErpgfP7maNv",
        "outputId": "7c7279a0-eae8-4cf0-d5a3-4df0e91d51aa"
      },
      "execution_count": 94,
      "outputs": [
        {
          "output_type": "stream",
          "name": "stdout",
          "text": [
            "* Chi tiết các fold\n",
            "> Fold 1  - Accuracy: 0.8333333333333334\n",
            "> Fold 2  - Accuracy: 0.7777777777777778\n",
            "> Fold 3  - Accuracy: 0.6111111111111112\n",
            "> Fold 4  - Accuracy: 0.5555555555555556\n",
            "> Fold 5  - Accuracy: 0.6111111111111112\n",
            "> Fold 6  - Accuracy: 0.7222222222222222\n",
            "> Fold 7  - Accuracy: 0.7777777777777778\n",
            "> Fold 8  - Accuracy: 0.7777777777777778\n",
            "> Fold 9  - Accuracy: 0.8235294117647058\n",
            "> Fold 10  - Accuracy: 0.8235294117647058\n",
            "* Đánh giá tổng thể các folds: \n",
            "> Accuracy: 0.7313725490196078 (Độ lệch +- 0.09683133923223304)\n"
          ]
        }
      ]
    },
    {
      "cell_type": "markdown",
      "source": [
        "Quá trình huấn luyện mô hình Naive Bayes "
      ],
      "metadata": {
        "id": "Tx-gcxP5lzUZ"
      }
    },
    {
      "cell_type": "code",
      "source": [
        "k_fold(mnb_wine, X, y)"
      ],
      "metadata": {
        "id": "brPv0wH5q2Sy",
        "colab": {
          "base_uri": "https://localhost:8080/"
        },
        "outputId": "fdf3f6b4-f344-4029-853e-ca197030ea58"
      },
      "execution_count": 95,
      "outputs": [
        {
          "output_type": "stream",
          "name": "stdout",
          "text": [
            "* Chi tiết các fold\n",
            "> Fold 1  - Accuracy: 0.7222222222222222\n",
            "> Fold 2  - Accuracy: 0.8888888888888888\n",
            "> Fold 3  - Accuracy: 0.7777777777777778\n",
            "> Fold 4  - Accuracy: 0.7777777777777778\n",
            "> Fold 5  - Accuracy: 0.6666666666666666\n",
            "> Fold 6  - Accuracy: 0.9444444444444444\n",
            "> Fold 7  - Accuracy: 0.8333333333333334\n",
            "> Fold 8  - Accuracy: 0.9444444444444444\n",
            "> Fold 9  - Accuracy: 1.0\n",
            "> Fold 10  - Accuracy: 0.9411764705882353\n",
            "* Đánh giá tổng thể các folds: \n",
            "> Accuracy: 0.8496732026143791 (Độ lệch +- 0.1052673172564091)\n"
          ]
        }
      ]
    },
    {
      "cell_type": "markdown",
      "source": [
        "*4. Dựa vào kết quả dự đoán của từng mô hình - ŷ và tập dữ liệu kiểm chứng - y$_{test}$, hãy:*"
      ],
      "metadata": {
        "id": "OrhnFRdpq4rR"
      }
    },
    {
      "cell_type": "markdown",
      "source": [
        "a. Đánh giá hiệu năng của từng mô hình theo các bộ chỉ số: (i) accuracy; (ii) precision;\n",
        "(iii) recall; và (iv) f1-measure."
      ],
      "metadata": {
        "id": "yDhMXxzgsair"
      }
    },
    {
      "cell_type": "markdown",
      "source": [
        "Đánh giá hiệu năng mô hình k-NN \n"
      ],
      "metadata": {
        "id": "qBijCrz4tAE8"
      }
    },
    {
      "cell_type": "code",
      "source": [
        "def danh_gia_mo_hinh(y_test, y_hat):\n",
        "  #(i) accuracy \n",
        "  i = accuracy_score(y_test,y_hat)\n",
        "  #(ii) precision \n",
        "  # Tính độ chính xác của từng nhãn lớp \n",
        "  ii_None = precision_score(y_test,y_hat , average=None)\n",
        "  # Tính tổng số lượng dữ liệu được dự đoán đúng so với tập dữ liệu \n",
        "  ii_micro = precision_score(y_test,y_hat , average='micro')\n",
        "  #(iii) recall \n",
        "  iii = recall_score(y_test,y_hat, average = None)\n",
        "  #(iv) f1-measure \n",
        "  iv = list(f1_score(y_test, y_hat, average=None))\n",
        "  return i, ii_None, iii, iv"
      ],
      "metadata": {
        "id": "bNY6AT5HsdcW"
      },
      "execution_count": 96,
      "outputs": []
    },
    {
      "cell_type": "code",
      "source": [
        "i_knn,ii_knn,iii_knn,iv_knn= danh_gia_mo_hinh(y_test,y_pred_knn_wine)\n",
        "print(\"Đánh giá hiệu năng của từng mô hình theo các bộ chỉ số(i) accuracy:\",i_knn)\n",
        "print(\"Đánh giá hiệu năng của từng mô hình theo các bộ chỉ số(ii) precision:\",ii_knn)\n",
        "print(\"Đánh giá hiệu năng của từng mô hình theo các bộ chỉ số(iii) recall:\",iii_knn) \n",
        "print(\"Đánh giá hiệu năng của từng mô hình theo các bộ chỉ số(iv) f1-measure:\",iv_knn)"
      ],
      "metadata": {
        "colab": {
          "base_uri": "https://localhost:8080/"
        },
        "id": "n0UpLvWKo8RT",
        "outputId": "22302c2b-329b-426f-df98-ab3f3a10e511"
      },
      "execution_count": 101,
      "outputs": [
        {
          "output_type": "stream",
          "name": "stdout",
          "text": [
            "Đánh giá hiệu năng của từng mô hình theo các bộ chỉ số(i) accuracy: 0.7222222222222222\n",
            "Đánh giá hiệu năng của từng mô hình theo các bộ chỉ số(ii) precision: [0.84615385 0.69230769 0.6       ]\n",
            "Đánh giá hiệu năng của từng mô hình theo các bộ chỉ số(iii) recall: [0.91666667 0.64285714 0.6       ]\n",
            "Đánh giá hiệu năng của từng mô hình theo các bộ chỉ số(iv) f1-measure: [0.8799999999999999, 0.6666666666666666, 0.6]\n"
          ]
        }
      ]
    },
    {
      "cell_type": "markdown",
      "source": [
        "Đánh giá hiệu năng mô hình Naive Bayes "
      ],
      "metadata": {
        "id": "17XvgPPM4fPf"
      }
    },
    {
      "cell_type": "code",
      "source": [
        "i_nb,ii_nb,iii_nb,iv_nb= danh_gia_mo_hinh(y_test,y_pred_nb_wine) \n",
        "print(\"Đánh giá hiệu năng của từng mô hình theo các bộ chỉ số(i) accuracy:\",i_nb)\n",
        "print(\"Đánh giá hiệu năng của từng mô hình theo các bộ chỉ số(ii) precision:\",ii_nb)\n",
        "print(\"Đánh giá hiệu năng của từng mô hình theo các bộ chỉ số(iii) recall:\",iii_nb) \n",
        "print(\"Đánh giá hiệu năng của từng mô hình theo các bộ chỉ số(iv) f1-measure:\",iv_nb)"
      ],
      "metadata": {
        "colab": {
          "base_uri": "https://localhost:8080/"
        },
        "id": "jKDm73QnxFLG",
        "outputId": "56f0f6a3-32fc-4320-8268-dd297514a55b"
      },
      "execution_count": 104,
      "outputs": [
        {
          "output_type": "stream",
          "name": "stdout",
          "text": [
            "Đánh giá hiệu năng của từng mô hình theo các bộ chỉ số(i) accuracy: 0.8888888888888888\n",
            "Đánh giá hiệu năng của từng mô hình theo các bộ chỉ số(ii) precision: [1.         0.86666667 0.81818182]\n",
            "Đánh giá hiệu năng của từng mô hình theo các bộ chỉ số(iii) recall: [0.83333333 0.92857143 0.9       ]\n",
            "Đánh giá hiệu năng của từng mô hình theo các bộ chỉ số(iv) f1-measure: [0.9090909090909091, 0.896551724137931, 0.8571428571428572]\n"
          ]
        }
      ]
    },
    {
      "cell_type": "markdown",
      "source": [
        "b. Vẽ bảng ghi kết quả so sánh các chỉ số trên của từng mô hình"
      ],
      "metadata": {
        "id": "udK4T3e-sd2Z"
      }
    },
    {
      "cell_type": "code",
      "source": [
        "#báo cáo phân lớp tổng hợp của mô hình k-NN \n",
        "target_names = ['class 0', 'class 1','class 2']\n",
        "report1 = classification_report(y_test, y_pred_knn_wine, target_names=target_names)\n",
        "print(report1)"
      ],
      "metadata": {
        "colab": {
          "base_uri": "https://localhost:8080/"
        },
        "id": "0K7AOHkGfVws",
        "outputId": "32881613-0470-44b1-9434-c187d7c70f8e"
      },
      "execution_count": 105,
      "outputs": [
        {
          "output_type": "stream",
          "name": "stdout",
          "text": [
            "              precision    recall  f1-score   support\n",
            "\n",
            "     class 0       0.85      0.92      0.88        12\n",
            "     class 1       0.69      0.64      0.67        14\n",
            "     class 2       0.60      0.60      0.60        10\n",
            "\n",
            "    accuracy                           0.72        36\n",
            "   macro avg       0.71      0.72      0.72        36\n",
            "weighted avg       0.72      0.72      0.72        36\n",
            "\n"
          ]
        }
      ]
    },
    {
      "cell_type": "code",
      "source": [
        "#báo cáo phân lớp tổng hợp của mô hình k-NN \n",
        "report2 = classification_report(y_test, y_pred_nb_wine, target_names=target_names)\n",
        "print(report2)"
      ],
      "metadata": {
        "colab": {
          "base_uri": "https://localhost:8080/"
        },
        "id": "KaB_MG0QgdVU",
        "outputId": "4430300d-77cc-45bb-fb50-870b6c49ad88"
      },
      "execution_count": 107,
      "outputs": [
        {
          "output_type": "stream",
          "name": "stdout",
          "text": [
            "              precision    recall  f1-score   support\n",
            "\n",
            "     class 0       1.00      0.83      0.91        12\n",
            "     class 1       0.87      0.93      0.90        14\n",
            "     class 2       0.82      0.90      0.86        10\n",
            "\n",
            "    accuracy                           0.89        36\n",
            "   macro avg       0.89      0.89      0.89        36\n",
            "weighted avg       0.90      0.89      0.89        36\n",
            "\n"
          ]
        }
      ]
    },
    {
      "cell_type": "code",
      "source": [
        "#bảng ghi kết quả so sánh các chỉ số trên của từng mô hình\n",
        "danh_gia_knn = [i_knn, ii_knn, iii_knn, iv_knn]\n",
        "danh_gia_nb = [i_nb, ii_nb, iii_nb, iv_nb]\n",
        "data = {'k-NN': danh_gia_knn, \n",
        "        'Naive Bayes': danh_gia_nb}\n",
        "id = ['accuracy (so sánh giữa 2 mô hình)', 'precision (so sánh giữa các nhãn lớp)', 'recall (so sánh giữa các nhãn lớp)', 'f1-measure (so sánh giữa các nhãn lớp)']\n",
        "df = pd.DataFrame(data=data, index = id)\n",
        "df"
      ],
      "metadata": {
        "id": "PnCTTKu60vZE",
        "colab": {
          "base_uri": "https://localhost:8080/",
          "height": 175
        },
        "outputId": "2094c696-0490-43e0-81a7-168eca7d89d7"
      },
      "execution_count": 108,
      "outputs": [
        {
          "output_type": "execute_result",
          "data": {
            "text/plain": [
              "                                                                                 k-NN  \\\n",
              "accuracy (so sánh giữa 2 mô hình)                                            0.722222   \n",
              "precision (so sánh giữa các nhãn lớp)   [0.8461538461538461, 0.6923076923076923, 0.6]   \n",
              "recall (so sánh giữa các nhãn lớp)      [0.9166666666666666, 0.6428571428571429, 0.6]   \n",
              "f1-measure (so sánh giữa các nhãn lớp)  [0.8799999999999999, 0.6666666666666666, 0.6]   \n",
              "\n",
              "                                                                              Naive Bayes  \n",
              "accuracy (so sánh giữa 2 mô hình)                                                0.888889  \n",
              "precision (so sánh giữa các nhãn lớp)       [1.0, 0.8666666666666667, 0.8181818181818182]  \n",
              "recall (so sánh giữa các nhãn lớp)          [0.8333333333333334, 0.9285714285714286, 0.9]  \n",
              "f1-measure (so sánh giữa các nhãn lớp)  [0.9090909090909091, 0.896551724137931, 0.8571...  "
            ],
            "text/html": [
              "\n",
              "  <div id=\"df-83e0edae-7ee6-445d-a3a7-903f8cd7652c\">\n",
              "    <div class=\"colab-df-container\">\n",
              "      <div>\n",
              "<style scoped>\n",
              "    .dataframe tbody tr th:only-of-type {\n",
              "        vertical-align: middle;\n",
              "    }\n",
              "\n",
              "    .dataframe tbody tr th {\n",
              "        vertical-align: top;\n",
              "    }\n",
              "\n",
              "    .dataframe thead th {\n",
              "        text-align: right;\n",
              "    }\n",
              "</style>\n",
              "<table border=\"1\" class=\"dataframe\">\n",
              "  <thead>\n",
              "    <tr style=\"text-align: right;\">\n",
              "      <th></th>\n",
              "      <th>k-NN</th>\n",
              "      <th>Naive Bayes</th>\n",
              "    </tr>\n",
              "  </thead>\n",
              "  <tbody>\n",
              "    <tr>\n",
              "      <th>accuracy (so sánh giữa 2 mô hình)</th>\n",
              "      <td>0.722222</td>\n",
              "      <td>0.888889</td>\n",
              "    </tr>\n",
              "    <tr>\n",
              "      <th>precision (so sánh giữa các nhãn lớp)</th>\n",
              "      <td>[0.8461538461538461, 0.6923076923076923, 0.6]</td>\n",
              "      <td>[1.0, 0.8666666666666667, 0.8181818181818182]</td>\n",
              "    </tr>\n",
              "    <tr>\n",
              "      <th>recall (so sánh giữa các nhãn lớp)</th>\n",
              "      <td>[0.9166666666666666, 0.6428571428571429, 0.6]</td>\n",
              "      <td>[0.8333333333333334, 0.9285714285714286, 0.9]</td>\n",
              "    </tr>\n",
              "    <tr>\n",
              "      <th>f1-measure (so sánh giữa các nhãn lớp)</th>\n",
              "      <td>[0.8799999999999999, 0.6666666666666666, 0.6]</td>\n",
              "      <td>[0.9090909090909091, 0.896551724137931, 0.8571...</td>\n",
              "    </tr>\n",
              "  </tbody>\n",
              "</table>\n",
              "</div>\n",
              "      <button class=\"colab-df-convert\" onclick=\"convertToInteractive('df-83e0edae-7ee6-445d-a3a7-903f8cd7652c')\"\n",
              "              title=\"Convert this dataframe to an interactive table.\"\n",
              "              style=\"display:none;\">\n",
              "        \n",
              "  <svg xmlns=\"http://www.w3.org/2000/svg\" height=\"24px\"viewBox=\"0 0 24 24\"\n",
              "       width=\"24px\">\n",
              "    <path d=\"M0 0h24v24H0V0z\" fill=\"none\"/>\n",
              "    <path d=\"M18.56 5.44l.94 2.06.94-2.06 2.06-.94-2.06-.94-.94-2.06-.94 2.06-2.06.94zm-11 1L8.5 8.5l.94-2.06 2.06-.94-2.06-.94L8.5 2.5l-.94 2.06-2.06.94zm10 10l.94 2.06.94-2.06 2.06-.94-2.06-.94-.94-2.06-.94 2.06-2.06.94z\"/><path d=\"M17.41 7.96l-1.37-1.37c-.4-.4-.92-.59-1.43-.59-.52 0-1.04.2-1.43.59L10.3 9.45l-7.72 7.72c-.78.78-.78 2.05 0 2.83L4 21.41c.39.39.9.59 1.41.59.51 0 1.02-.2 1.41-.59l7.78-7.78 2.81-2.81c.8-.78.8-2.07 0-2.86zM5.41 20L4 18.59l7.72-7.72 1.47 1.35L5.41 20z\"/>\n",
              "  </svg>\n",
              "      </button>\n",
              "      \n",
              "  <style>\n",
              "    .colab-df-container {\n",
              "      display:flex;\n",
              "      flex-wrap:wrap;\n",
              "      gap: 12px;\n",
              "    }\n",
              "\n",
              "    .colab-df-convert {\n",
              "      background-color: #E8F0FE;\n",
              "      border: none;\n",
              "      border-radius: 50%;\n",
              "      cursor: pointer;\n",
              "      display: none;\n",
              "      fill: #1967D2;\n",
              "      height: 32px;\n",
              "      padding: 0 0 0 0;\n",
              "      width: 32px;\n",
              "    }\n",
              "\n",
              "    .colab-df-convert:hover {\n",
              "      background-color: #E2EBFA;\n",
              "      box-shadow: 0px 1px 2px rgba(60, 64, 67, 0.3), 0px 1px 3px 1px rgba(60, 64, 67, 0.15);\n",
              "      fill: #174EA6;\n",
              "    }\n",
              "\n",
              "    [theme=dark] .colab-df-convert {\n",
              "      background-color: #3B4455;\n",
              "      fill: #D2E3FC;\n",
              "    }\n",
              "\n",
              "    [theme=dark] .colab-df-convert:hover {\n",
              "      background-color: #434B5C;\n",
              "      box-shadow: 0px 1px 3px 1px rgba(0, 0, 0, 0.15);\n",
              "      filter: drop-shadow(0px 1px 2px rgba(0, 0, 0, 0.3));\n",
              "      fill: #FFFFFF;\n",
              "    }\n",
              "  </style>\n",
              "\n",
              "      <script>\n",
              "        const buttonEl =\n",
              "          document.querySelector('#df-83e0edae-7ee6-445d-a3a7-903f8cd7652c button.colab-df-convert');\n",
              "        buttonEl.style.display =\n",
              "          google.colab.kernel.accessAllowed ? 'block' : 'none';\n",
              "\n",
              "        async function convertToInteractive(key) {\n",
              "          const element = document.querySelector('#df-83e0edae-7ee6-445d-a3a7-903f8cd7652c');\n",
              "          const dataTable =\n",
              "            await google.colab.kernel.invokeFunction('convertToInteractive',\n",
              "                                                     [key], {});\n",
              "          if (!dataTable) return;\n",
              "\n",
              "          const docLinkHtml = 'Like what you see? Visit the ' +\n",
              "            '<a target=\"_blank\" href=https://colab.research.google.com/notebooks/data_table.ipynb>data table notebook</a>'\n",
              "            + ' to learn more about interactive tables.';\n",
              "          element.innerHTML = '';\n",
              "          dataTable['output_type'] = 'display_data';\n",
              "          await google.colab.output.renderOutput(dataTable, element);\n",
              "          const docLink = document.createElement('div');\n",
              "          docLink.innerHTML = docLinkHtml;\n",
              "          element.appendChild(docLink);\n",
              "        }\n",
              "      </script>\n",
              "    </div>\n",
              "  </div>\n",
              "  "
            ]
          },
          "metadata": {},
          "execution_count": 108
        }
      ]
    },
    {
      "cell_type": "markdown",
      "source": [
        "Trực quan tập dữ liệu "
      ],
      "metadata": {
        "id": "nu1Rnthi8pTl"
      }
    },
    {
      "cell_type": "code",
      "source": [
        "def truc_quan_kq(y_test, y_pred_knn):\n",
        "  conf_matrix = confusion_matrix(y_true=y_test, y_pred=y_pred_knn)\n",
        "  #sử dụng Matplotlib để vẽ confusion matrix \n",
        "  fig, ax = plt.subplots(figsize=(5, 5))\n",
        "  ax.matshow(conf_matrix, cmap=plt.cm.Oranges, alpha=0.3)\n",
        "  for i in range(conf_matrix.shape[0]):\n",
        "      for j in range(conf_matrix.shape[1]):\n",
        "          ax.text(x=j, y=i,s=conf_matrix[i, j], va='center', ha='center', size='xx-large')\n",
        "  plt.xlabel('Dự đoán', fontsize=18)\n",
        "  plt.ylabel('Label', fontsize=18)\n",
        "  plt.title('Confusion Matrix', fontsize=18)\n",
        "  plt.show()"
      ],
      "metadata": {
        "id": "ihL1QBBfza4_"
      },
      "execution_count": 20,
      "outputs": []
    },
    {
      "cell_type": "code",
      "source": [
        "truc_quan_kq(y_test, y_pred_knn_wine)"
      ],
      "metadata": {
        "colab": {
          "base_uri": "https://localhost:8080/",
          "height": 358
        },
        "id": "e9g9zcCp82wt",
        "outputId": "f4611453-4965-4bfd-ffb9-7afb61324bf7"
      },
      "execution_count": 109,
      "outputs": [
        {
          "output_type": "display_data",
          "data": {
            "text/plain": [
              "<Figure size 360x360 with 1 Axes>"
            ],
            "image/png": "[encoded data removed]"
          },
          "metadata": {
            "needs_background": "light"
          }
        }
      ]
    },
    {
      "cell_type": "code",
      "source": [
        "truc_quan_kq(y_test, y_pred_nb_wine)"
      ],
      "metadata": {
        "colab": {
          "base_uri": "https://localhost:8080/",
          "height": 358
        },
        "id": "riO_53N28_58",
        "outputId": "83d18821-eb56-41f3-e8dd-0e35e3b352c5"
      },
      "execution_count": 110,
      "outputs": [
        {
          "output_type": "display_data",
          "data": {
            "text/plain": [
              "<Figure size 360x360 with 1 Axes>"
            ],
            "image/png": "[encoded data removed]"
          },
          "metadata": {
            "needs_background": "light"
          }
        }
      ]
    },
    {
      "cell_type": "markdown",
      "source": [
        "c. Xác định mô hình vượt trội?\n",
        "\n",
        "Sau quá trình huấn luyện, đánh giá hiệu năng và vẽ bảng so sánh kết quả của từng mô hình. \n",
        "\n",
        "Ta thấy được *mô hình Naive Bayes* **vượt trội hơn** *mô hình k-NN* đối với tập dữ liệu wine.data"
      ],
      "metadata": {
        "id": "A2PHMpXVsfYP"
      }
    },
    {
      "cell_type": "markdown",
      "source": [
        "**Câu 1 : Tải tập dữ liệu Breast cancer**\n",
        "2. [Breast cancer](https://archive.ics.uci.edu/ml/datasets/Breast+Cancer+Wisconsin+%28Diagnostic%29)\n"
      ],
      "metadata": {
        "id": "-iLcf4wr_AWN"
      }
    },
    {
      "cell_type": "markdown",
      "source": [
        "Đọc tập dữ liệu Breast cancer "
      ],
      "metadata": {
        "id": "paifsoZ5-t4U"
      }
    },
    {
      "cell_type": "code",
      "source": [
        "data_cancer = pd.read_csv('/content/breast-cancer-wisconsin.data', header = None)\n",
        "data_cancer.sample(5)"
      ],
      "metadata": {
        "colab": {
          "base_uri": "https://localhost:8080/",
          "height": 206
        },
        "id": "t1gRyherkcNw",
        "outputId": "9caca719-9193-4781-d73b-a245ed0c5c9d"
      },
      "execution_count": 23,
      "outputs": [
        {
          "output_type": "execute_result",
          "data": {
            "text/plain": [
              "          0   1   2   3   4   5   6   7   8   9   10\n",
              "621  1096352   6   3   3   3   3   2   6   1   1   2\n",
              "409  1237674   3   1   2   1   2   1   2   1   1   2\n",
              "152  1189286  10  10   8   6   4   5   8  10   1   4\n",
              "345   826923   1   1   1   1   2   1   1   1   1   2\n",
              "536  1113061   5   1   1   1   2   1   3   1   1   2"
            ],
            "text/html": [
              "\n",
              "  <div id=\"df-9f88646c-d5ea-4cb5-b840-9de4ade46686\">\n",
              "    <div class=\"colab-df-container\">\n",
              "      <div>\n",
              "<style scoped>\n",
              "    .dataframe tbody tr th:only-of-type {\n",
              "        vertical-align: middle;\n",
              "    }\n",
              "\n",
              "    .dataframe tbody tr th {\n",
              "        vertical-align: top;\n",
              "    }\n",
              "\n",
              "    .dataframe thead th {\n",
              "        text-align: right;\n",
              "    }\n",
              "</style>\n",
              "<table border=\"1\" class=\"dataframe\">\n",
              "  <thead>\n",
              "    <tr style=\"text-align: right;\">\n",
              "      <th></th>\n",
              "      <th>0</th>\n",
              "      <th>1</th>\n",
              "      <th>2</th>\n",
              "      <th>3</th>\n",
              "      <th>4</th>\n",
              "      <th>5</th>\n",
              "      <th>6</th>\n",
              "      <th>7</th>\n",
              "      <th>8</th>\n",
              "      <th>9</th>\n",
              "      <th>10</th>\n",
              "    </tr>\n",
              "  </thead>\n",
              "  <tbody>\n",
              "    <tr>\n",
              "      <th>621</th>\n",
              "      <td>1096352</td>\n",
              "      <td>6</td>\n",
              "      <td>3</td>\n",
              "      <td>3</td>\n",
              "      <td>3</td>\n",
              "      <td>3</td>\n",
              "      <td>2</td>\n",
              "      <td>6</td>\n",
              "      <td>1</td>\n",
              "      <td>1</td>\n",
              "      <td>2</td>\n",
              "    </tr>\n",
              "    <tr>\n",
              "      <th>409</th>\n",
              "      <td>1237674</td>\n",
              "      <td>3</td>\n",
              "      <td>1</td>\n",
              "      <td>2</td>\n",
              "      <td>1</td>\n",
              "      <td>2</td>\n",
              "      <td>1</td>\n",
              "      <td>2</td>\n",
              "      <td>1</td>\n",
              "      <td>1</td>\n",
              "      <td>2</td>\n",
              "    </tr>\n",
              "    <tr>\n",
              "      <th>152</th>\n",
              "      <td>1189286</td>\n",
              "      <td>10</td>\n",
              "      <td>10</td>\n",
              "      <td>8</td>\n",
              "      <td>6</td>\n",
              "      <td>4</td>\n",
              "      <td>5</td>\n",
              "      <td>8</td>\n",
              "      <td>10</td>\n",
              "      <td>1</td>\n",
              "      <td>4</td>\n",
              "    </tr>\n",
              "    <tr>\n",
              "      <th>345</th>\n",
              "      <td>826923</td>\n",
              "      <td>1</td>\n",
              "      <td>1</td>\n",
              "      <td>1</td>\n",
              "      <td>1</td>\n",
              "      <td>2</td>\n",
              "      <td>1</td>\n",
              "      <td>1</td>\n",
              "      <td>1</td>\n",
              "      <td>1</td>\n",
              "      <td>2</td>\n",
              "    </tr>\n",
              "    <tr>\n",
              "      <th>536</th>\n",
              "      <td>1113061</td>\n",
              "      <td>5</td>\n",
              "      <td>1</td>\n",
              "      <td>1</td>\n",
              "      <td>1</td>\n",
              "      <td>2</td>\n",
              "      <td>1</td>\n",
              "      <td>3</td>\n",
              "      <td>1</td>\n",
              "      <td>1</td>\n",
              "      <td>2</td>\n",
              "    </tr>\n",
              "  </tbody>\n",
              "</table>\n",
              "</div>\n",
              "      <button class=\"colab-df-convert\" onclick=\"convertToInteractive('df-9f88646c-d5ea-4cb5-b840-9de4ade46686')\"\n",
              "              title=\"Convert this dataframe to an interactive table.\"\n",
              "              style=\"display:none;\">\n",
              "        \n",
              "  <svg xmlns=\"http://www.w3.org/2000/svg\" height=\"24px\"viewBox=\"0 0 24 24\"\n",
              "       width=\"24px\">\n",
              "    <path d=\"M0 0h24v24H0V0z\" fill=\"none\"/>\n",
              "    <path d=\"M18.56 5.44l.94 2.06.94-2.06 2.06-.94-2.06-.94-.94-2.06-.94 2.06-2.06.94zm-11 1L8.5 8.5l.94-2.06 2.06-.94-2.06-.94L8.5 2.5l-.94 2.06-2.06.94zm10 10l.94 2.06.94-2.06 2.06-.94-2.06-.94-.94-2.06-.94 2.06-2.06.94z\"/><path d=\"M17.41 7.96l-1.37-1.37c-.4-.4-.92-.59-1.43-.59-.52 0-1.04.2-1.43.59L10.3 9.45l-7.72 7.72c-.78.78-.78 2.05 0 2.83L4 21.41c.39.39.9.59 1.41.59.51 0 1.02-.2 1.41-.59l7.78-7.78 2.81-2.81c.8-.78.8-2.07 0-2.86zM5.41 20L4 18.59l7.72-7.72 1.47 1.35L5.41 20z\"/>\n",
              "  </svg>\n",
              "      </button>\n",
              "      \n",
              "  <style>\n",
              "    .colab-df-container {\n",
              "      display:flex;\n",
              "      flex-wrap:wrap;\n",
              "      gap: 12px;\n",
              "    }\n",
              "\n",
              "    .colab-df-convert {\n",
              "      background-color: #E8F0FE;\n",
              "      border: none;\n",
              "      border-radius: 50%;\n",
              "      cursor: pointer;\n",
              "      display: none;\n",
              "      fill: #1967D2;\n",
              "      height: 32px;\n",
              "      padding: 0 0 0 0;\n",
              "      width: 32px;\n",
              "    }\n",
              "\n",
              "    .colab-df-convert:hover {\n",
              "      background-color: #E2EBFA;\n",
              "      box-shadow: 0px 1px 2px rgba(60, 64, 67, 0.3), 0px 1px 3px 1px rgba(60, 64, 67, 0.15);\n",
              "      fill: #174EA6;\n",
              "    }\n",
              "\n",
              "    [theme=dark] .colab-df-convert {\n",
              "      background-color: #3B4455;\n",
              "      fill: #D2E3FC;\n",
              "    }\n",
              "\n",
              "    [theme=dark] .colab-df-convert:hover {\n",
              "      background-color: #434B5C;\n",
              "      box-shadow: 0px 1px 3px 1px rgba(0, 0, 0, 0.15);\n",
              "      filter: drop-shadow(0px 1px 2px rgba(0, 0, 0, 0.3));\n",
              "      fill: #FFFFFF;\n",
              "    }\n",
              "  </style>\n",
              "\n",
              "      <script>\n",
              "        const buttonEl =\n",
              "          document.querySelector('#df-9f88646c-d5ea-4cb5-b840-9de4ade46686 button.colab-df-convert');\n",
              "        buttonEl.style.display =\n",
              "          google.colab.kernel.accessAllowed ? 'block' : 'none';\n",
              "\n",
              "        async function convertToInteractive(key) {\n",
              "          const element = document.querySelector('#df-9f88646c-d5ea-4cb5-b840-9de4ade46686');\n",
              "          const dataTable =\n",
              "            await google.colab.kernel.invokeFunction('convertToInteractive',\n",
              "                                                     [key], {});\n",
              "          if (!dataTable) return;\n",
              "\n",
              "          const docLinkHtml = 'Like what you see? Visit the ' +\n",
              "            '<a target=\"_blank\" href=https://colab.research.google.com/notebooks/data_table.ipynb>data table notebook</a>'\n",
              "            + ' to learn more about interactive tables.';\n",
              "          element.innerHTML = '';\n",
              "          dataTable['output_type'] = 'display_data';\n",
              "          await google.colab.output.renderOutput(dataTable, element);\n",
              "          const docLink = document.createElement('div');\n",
              "          docLink.innerHTML = docLinkHtml;\n",
              "          element.appendChild(docLink);\n",
              "        }\n",
              "      </script>\n",
              "    </div>\n",
              "  </div>\n",
              "  "
            ]
          },
          "metadata": {},
          "execution_count": 23
        }
      ]
    },
    {
      "cell_type": "markdown",
      "source": [
        "\n",
        "Khai báo các thuộc tính của tập dữ liệu \n",
        "\n",
        "1. Sample code number (ID - Các con số dùng để định danh)\n",
        "\n",
        "2. Clump Thickness (1-10) (Tức là giá trị của nó là số nguyên nằm từ 1 đến 10)\n",
        "\n",
        "3. Uniformity of Cell Size (1-10)\n",
        "\n",
        "4. Uniformity of Cell Shape (1-10)\n",
        "\n",
        "5. Marginal Adhesion (1-10)\n",
        "\n",
        "6. Single Epithelial Cell Size (1-10)\n",
        "\n",
        "7. Bare Nuclei (1-10)\n",
        "\n",
        "8. Bland Chromatin (1-10)\n",
        "\n",
        "9. Normal Nucleoli (1-10)\n",
        "\n",
        "10. Mitoses (1-10)\n",
        "\n",
        "11. Class (2- cho bệnh lành tính và 4 - cho bệnh ác tính) (Đây chính là biến nhãn lớp)\n"
      ],
      "metadata": {
        "id": "qmnYCbuNkvPN"
      }
    },
    {
      "cell_type": "markdown",
      "source": [
        "Chỉnh sửa tên các thuộc tính của tập dữ liệu"
      ],
      "metadata": {
        "id": "bYXyXq4L_p90"
      }
    },
    {
      "cell_type": "code",
      "source": [
        "data_cancer.columns = ['Sample_code_number', 'Clump_Thicknes', \n",
        "                     'Uniformity_of_Cell_Size', 'Uniformity_of_Cell_Shape', \n",
        "                     'Marginal_Adhesion', 'Single_Epithelial_Cell_Size', \n",
        "                     'Bare_Nuclei', 'Bland_Chromatin', 'Normal_Nucleoli',\n",
        "                     'Mitoses', 'Class']\n",
        "data_cancer.sample(5)"
      ],
      "metadata": {
        "colab": {
          "base_uri": "https://localhost:8080/",
          "height": 270
        },
        "id": "K9UrCccRqMOH",
        "outputId": "2345360e-ee25-4f16-9382-b4178252a2ee"
      },
      "execution_count": 24,
      "outputs": [
        {
          "output_type": "execute_result",
          "data": {
            "text/plain": [
              "     Sample_code_number  Clump_Thicknes  Uniformity_of_Cell_Size  \\\n",
              "1               1002945               5                        4   \n",
              "74              1126417              10                        6   \n",
              "336              797327               6                        5   \n",
              "43              1102573               5                        6   \n",
              "373              521441               5                        1   \n",
              "\n",
              "     Uniformity_of_Cell_Shape  Marginal_Adhesion  Single_Epithelial_Cell_Size  \\\n",
              "1                           4                  5                            7   \n",
              "74                          4                  1                            3   \n",
              "336                         5                  8                            4   \n",
              "43                          5                  6                           10   \n",
              "373                         1                  2                            2   \n",
              "\n",
              "     Bare_Nuclei  Bland_Chromatin  Normal_Nucleoli  Mitoses  Class  \n",
              "1             10                3                2        1      2  \n",
              "74             4                3                2        3      4  \n",
              "336           10                3                4        1      4  \n",
              "43             1                3                1        1      4  \n",
              "373            1                2                1        1      2  "
            ],
            "text/html": [
              "\n",
              "  <div id=\"df-c6d6fb03-55f4-45bc-80d5-f0fae0583b5e\">\n",
              "    <div class=\"colab-df-container\">\n",
              "      <div>\n",
              "<style scoped>\n",
              "    .dataframe tbody tr th:only-of-type {\n",
              "        vertical-align: middle;\n",
              "    }\n",
              "\n",
              "    .dataframe tbody tr th {\n",
              "        vertical-align: top;\n",
              "    }\n",
              "\n",
              "    .dataframe thead th {\n",
              "        text-align: right;\n",
              "    }\n",
              "</style>\n",
              "<table border=\"1\" class=\"dataframe\">\n",
              "  <thead>\n",
              "    <tr style=\"text-align: right;\">\n",
              "      <th></th>\n",
              "      <th>Sample_code_number</th>\n",
              "      <th>Clump_Thicknes</th>\n",
              "      <th>Uniformity_of_Cell_Size</th>\n",
              "      <th>Uniformity_of_Cell_Shape</th>\n",
              "      <th>Marginal_Adhesion</th>\n",
              "      <th>Single_Epithelial_Cell_Size</th>\n",
              "      <th>Bare_Nuclei</th>\n",
              "      <th>Bland_Chromatin</th>\n",
              "      <th>Normal_Nucleoli</th>\n",
              "      <th>Mitoses</th>\n",
              "      <th>Class</th>\n",
              "    </tr>\n",
              "  </thead>\n",
              "  <tbody>\n",
              "    <tr>\n",
              "      <th>1</th>\n",
              "      <td>1002945</td>\n",
              "      <td>5</td>\n",
              "      <td>4</td>\n",
              "      <td>4</td>\n",
              "      <td>5</td>\n",
              "      <td>7</td>\n",
              "      <td>10</td>\n",
              "      <td>3</td>\n",
              "      <td>2</td>\n",
              "      <td>1</td>\n",
              "      <td>2</td>\n",
              "    </tr>\n",
              "    <tr>\n",
              "      <th>74</th>\n",
              "      <td>1126417</td>\n",
              "      <td>10</td>\n",
              "      <td>6</td>\n",
              "      <td>4</td>\n",
              "      <td>1</td>\n",
              "      <td>3</td>\n",
              "      <td>4</td>\n",
              "      <td>3</td>\n",
              "      <td>2</td>\n",
              "      <td>3</td>\n",
              "      <td>4</td>\n",
              "    </tr>\n",
              "    <tr>\n",
              "      <th>336</th>\n",
              "      <td>797327</td>\n",
              "      <td>6</td>\n",
              "      <td>5</td>\n",
              "      <td>5</td>\n",
              "      <td>8</td>\n",
              "      <td>4</td>\n",
              "      <td>10</td>\n",
              "      <td>3</td>\n",
              "      <td>4</td>\n",
              "      <td>1</td>\n",
              "      <td>4</td>\n",
              "    </tr>\n",
              "    <tr>\n",
              "      <th>43</th>\n",
              "      <td>1102573</td>\n",
              "      <td>5</td>\n",
              "      <td>6</td>\n",
              "      <td>5</td>\n",
              "      <td>6</td>\n",
              "      <td>10</td>\n",
              "      <td>1</td>\n",
              "      <td>3</td>\n",
              "      <td>1</td>\n",
              "      <td>1</td>\n",
              "      <td>4</td>\n",
              "    </tr>\n",
              "    <tr>\n",
              "      <th>373</th>\n",
              "      <td>521441</td>\n",
              "      <td>5</td>\n",
              "      <td>1</td>\n",
              "      <td>1</td>\n",
              "      <td>2</td>\n",
              "      <td>2</td>\n",
              "      <td>1</td>\n",
              "      <td>2</td>\n",
              "      <td>1</td>\n",
              "      <td>1</td>\n",
              "      <td>2</td>\n",
              "    </tr>\n",
              "  </tbody>\n",
              "</table>\n",
              "</div>\n",
              "      <button class=\"colab-df-convert\" onclick=\"convertToInteractive('df-c6d6fb03-55f4-45bc-80d5-f0fae0583b5e')\"\n",
              "              title=\"Convert this dataframe to an interactive table.\"\n",
              "              style=\"display:none;\">\n",
              "        \n",
              "  <svg xmlns=\"http://www.w3.org/2000/svg\" height=\"24px\"viewBox=\"0 0 24 24\"\n",
              "       width=\"24px\">\n",
              "    <path d=\"M0 0h24v24H0V0z\" fill=\"none\"/>\n",
              "    <path d=\"M18.56 5.44l.94 2.06.94-2.06 2.06-.94-2.06-.94-.94-2.06-.94 2.06-2.06.94zm-11 1L8.5 8.5l.94-2.06 2.06-.94-2.06-.94L8.5 2.5l-.94 2.06-2.06.94zm10 10l.94 2.06.94-2.06 2.06-.94-2.06-.94-.94-2.06-.94 2.06-2.06.94z\"/><path d=\"M17.41 7.96l-1.37-1.37c-.4-.4-.92-.59-1.43-.59-.52 0-1.04.2-1.43.59L10.3 9.45l-7.72 7.72c-.78.78-.78 2.05 0 2.83L4 21.41c.39.39.9.59 1.41.59.51 0 1.02-.2 1.41-.59l7.78-7.78 2.81-2.81c.8-.78.8-2.07 0-2.86zM5.41 20L4 18.59l7.72-7.72 1.47 1.35L5.41 20z\"/>\n",
              "  </svg>\n",
              "      </button>\n",
              "      \n",
              "  <style>\n",
              "    .colab-df-container {\n",
              "      display:flex;\n",
              "      flex-wrap:wrap;\n",
              "      gap: 12px;\n",
              "    }\n",
              "\n",
              "    .colab-df-convert {\n",
              "      background-color: #E8F0FE;\n",
              "      border: none;\n",
              "      border-radius: 50%;\n",
              "      cursor: pointer;\n",
              "      display: none;\n",
              "      fill: #1967D2;\n",
              "      height: 32px;\n",
              "      padding: 0 0 0 0;\n",
              "      width: 32px;\n",
              "    }\n",
              "\n",
              "    .colab-df-convert:hover {\n",
              "      background-color: #E2EBFA;\n",
              "      box-shadow: 0px 1px 2px rgba(60, 64, 67, 0.3), 0px 1px 3px 1px rgba(60, 64, 67, 0.15);\n",
              "      fill: #174EA6;\n",
              "    }\n",
              "\n",
              "    [theme=dark] .colab-df-convert {\n",
              "      background-color: #3B4455;\n",
              "      fill: #D2E3FC;\n",
              "    }\n",
              "\n",
              "    [theme=dark] .colab-df-convert:hover {\n",
              "      background-color: #434B5C;\n",
              "      box-shadow: 0px 1px 3px 1px rgba(0, 0, 0, 0.15);\n",
              "      filter: drop-shadow(0px 1px 2px rgba(0, 0, 0, 0.3));\n",
              "      fill: #FFFFFF;\n",
              "    }\n",
              "  </style>\n",
              "\n",
              "      <script>\n",
              "        const buttonEl =\n",
              "          document.querySelector('#df-c6d6fb03-55f4-45bc-80d5-f0fae0583b5e button.colab-df-convert');\n",
              "        buttonEl.style.display =\n",
              "          google.colab.kernel.accessAllowed ? 'block' : 'none';\n",
              "\n",
              "        async function convertToInteractive(key) {\n",
              "          const element = document.querySelector('#df-c6d6fb03-55f4-45bc-80d5-f0fae0583b5e');\n",
              "          const dataTable =\n",
              "            await google.colab.kernel.invokeFunction('convertToInteractive',\n",
              "                                                     [key], {});\n",
              "          if (!dataTable) return;\n",
              "\n",
              "          const docLinkHtml = 'Like what you see? Visit the ' +\n",
              "            '<a target=\"_blank\" href=https://colab.research.google.com/notebooks/data_table.ipynb>data table notebook</a>'\n",
              "            + ' to learn more about interactive tables.';\n",
              "          element.innerHTML = '';\n",
              "          dataTable['output_type'] = 'display_data';\n",
              "          await google.colab.output.renderOutput(dataTable, element);\n",
              "          const docLink = document.createElement('div');\n",
              "          docLink.innerHTML = docLinkHtml;\n",
              "          element.appendChild(docLink);\n",
              "        }\n",
              "      </script>\n",
              "    </div>\n",
              "  </div>\n",
              "  "
            ]
          },
          "metadata": {},
          "execution_count": 24
        }
      ]
    },
    {
      "cell_type": "markdown",
      "source": [
        "**Câu 2 : Xác định tập dữ liệu Breast cancer**\n",
        "\n",
        "*1. Thuộc tính nào đóng vai trò nhãn lớp?*\n",
        "\n",
        "Trả lời: Class \n",
        "\n",
        "*2. Tập dữ liệu nào phục vụ bài toán phân lớp nhị phân? Bài toán nào phân lớp đa nhãn?*\n",
        "\n",
        "Trả lời: Tập dữ liệu Breast cancer phục vụ bài toán nhị phân \n",
        "\n",
        "*3. Thuộc tính nào không cần thiết trong huấn luyện mô hình?*\n",
        "\n",
        "Trả lời: Class \n"
      ],
      "metadata": {
        "id": "EhxQh5XQpKL-"
      }
    },
    {
      "cell_type": "markdown",
      "source": [
        "**Câu 3: Xây dựng mô hình phân lớp LogisticRegression, k-NN và Naive Bays cho 2 tập dữ liệu trên. Yêu cầu:**\n"
      ],
      "metadata": {
        "id": "a2EyBnqh_-30"
      }
    },
    {
      "cell_type": "markdown",
      "source": [
        "*1. Xác định nhãn lớp có cân bằng không?*\n",
        "\n",
        "Trả lời : Các nhãn lớp không cân bằng "
      ],
      "metadata": {
        "id": "xTmL-aShAM_V"
      }
    },
    {
      "cell_type": "code",
      "source": [
        "fre = data_cancer[['Clump_Thicknes', 'Class']].groupby(['Class']).count()\n",
        "fre.columns = ['Times']\n",
        "fre"
      ],
      "metadata": {
        "colab": {
          "base_uri": "https://localhost:8080/",
          "height": 143
        },
        "id": "8k5A5aVhrBXg",
        "outputId": "75aa357b-6eae-47b5-cbdb-7ffd4445633b"
      },
      "execution_count": 25,
      "outputs": [
        {
          "output_type": "execute_result",
          "data": {
            "text/plain": [
              "       Times\n",
              "Class       \n",
              "2        458\n",
              "4        241"
            ],
            "text/html": [
              "\n",
              "  <div id=\"df-b2cb7580-6174-471f-bb40-014c78981be2\">\n",
              "    <div class=\"colab-df-container\">\n",
              "      <div>\n",
              "<style scoped>\n",
              "    .dataframe tbody tr th:only-of-type {\n",
              "        vertical-align: middle;\n",
              "    }\n",
              "\n",
              "    .dataframe tbody tr th {\n",
              "        vertical-align: top;\n",
              "    }\n",
              "\n",
              "    .dataframe thead th {\n",
              "        text-align: right;\n",
              "    }\n",
              "</style>\n",
              "<table border=\"1\" class=\"dataframe\">\n",
              "  <thead>\n",
              "    <tr style=\"text-align: right;\">\n",
              "      <th></th>\n",
              "      <th>Times</th>\n",
              "    </tr>\n",
              "    <tr>\n",
              "      <th>Class</th>\n",
              "      <th></th>\n",
              "    </tr>\n",
              "  </thead>\n",
              "  <tbody>\n",
              "    <tr>\n",
              "      <th>2</th>\n",
              "      <td>458</td>\n",
              "    </tr>\n",
              "    <tr>\n",
              "      <th>4</th>\n",
              "      <td>241</td>\n",
              "    </tr>\n",
              "  </tbody>\n",
              "</table>\n",
              "</div>\n",
              "      <button class=\"colab-df-convert\" onclick=\"convertToInteractive('df-b2cb7580-6174-471f-bb40-014c78981be2')\"\n",
              "              title=\"Convert this dataframe to an interactive table.\"\n",
              "              style=\"display:none;\">\n",
              "        \n",
              "  <svg xmlns=\"http://www.w3.org/2000/svg\" height=\"24px\"viewBox=\"0 0 24 24\"\n",
              "       width=\"24px\">\n",
              "    <path d=\"M0 0h24v24H0V0z\" fill=\"none\"/>\n",
              "    <path d=\"M18.56 5.44l.94 2.06.94-2.06 2.06-.94-2.06-.94-.94-2.06-.94 2.06-2.06.94zm-11 1L8.5 8.5l.94-2.06 2.06-.94-2.06-.94L8.5 2.5l-.94 2.06-2.06.94zm10 10l.94 2.06.94-2.06 2.06-.94-2.06-.94-.94-2.06-.94 2.06-2.06.94z\"/><path d=\"M17.41 7.96l-1.37-1.37c-.4-.4-.92-.59-1.43-.59-.52 0-1.04.2-1.43.59L10.3 9.45l-7.72 7.72c-.78.78-.78 2.05 0 2.83L4 21.41c.39.39.9.59 1.41.59.51 0 1.02-.2 1.41-.59l7.78-7.78 2.81-2.81c.8-.78.8-2.07 0-2.86zM5.41 20L4 18.59l7.72-7.72 1.47 1.35L5.41 20z\"/>\n",
              "  </svg>\n",
              "      </button>\n",
              "      \n",
              "  <style>\n",
              "    .colab-df-container {\n",
              "      display:flex;\n",
              "      flex-wrap:wrap;\n",
              "      gap: 12px;\n",
              "    }\n",
              "\n",
              "    .colab-df-convert {\n",
              "      background-color: #E8F0FE;\n",
              "      border: none;\n",
              "      border-radius: 50%;\n",
              "      cursor: pointer;\n",
              "      display: none;\n",
              "      fill: #1967D2;\n",
              "      height: 32px;\n",
              "      padding: 0 0 0 0;\n",
              "      width: 32px;\n",
              "    }\n",
              "\n",
              "    .colab-df-convert:hover {\n",
              "      background-color: #E2EBFA;\n",
              "      box-shadow: 0px 1px 2px rgba(60, 64, 67, 0.3), 0px 1px 3px 1px rgba(60, 64, 67, 0.15);\n",
              "      fill: #174EA6;\n",
              "    }\n",
              "\n",
              "    [theme=dark] .colab-df-convert {\n",
              "      background-color: #3B4455;\n",
              "      fill: #D2E3FC;\n",
              "    }\n",
              "\n",
              "    [theme=dark] .colab-df-convert:hover {\n",
              "      background-color: #434B5C;\n",
              "      box-shadow: 0px 1px 3px 1px rgba(0, 0, 0, 0.15);\n",
              "      filter: drop-shadow(0px 1px 2px rgba(0, 0, 0, 0.3));\n",
              "      fill: #FFFFFF;\n",
              "    }\n",
              "  </style>\n",
              "\n",
              "      <script>\n",
              "        const buttonEl =\n",
              "          document.querySelector('#df-b2cb7580-6174-471f-bb40-014c78981be2 button.colab-df-convert');\n",
              "        buttonEl.style.display =\n",
              "          google.colab.kernel.accessAllowed ? 'block' : 'none';\n",
              "\n",
              "        async function convertToInteractive(key) {\n",
              "          const element = document.querySelector('#df-b2cb7580-6174-471f-bb40-014c78981be2');\n",
              "          const dataTable =\n",
              "            await google.colab.kernel.invokeFunction('convertToInteractive',\n",
              "                                                     [key], {});\n",
              "          if (!dataTable) return;\n",
              "\n",
              "          const docLinkHtml = 'Like what you see? Visit the ' +\n",
              "            '<a target=\"_blank\" href=https://colab.research.google.com/notebooks/data_table.ipynb>data table notebook</a>'\n",
              "            + ' to learn more about interactive tables.';\n",
              "          element.innerHTML = '';\n",
              "          dataTable['output_type'] = 'display_data';\n",
              "          await google.colab.output.renderOutput(dataTable, element);\n",
              "          const docLink = document.createElement('div');\n",
              "          docLink.innerHTML = docLinkHtml;\n",
              "          element.appendChild(docLink);\n",
              "        }\n",
              "      </script>\n",
              "    </div>\n",
              "  </div>\n",
              "  "
            ]
          },
          "metadata": {},
          "execution_count": 25
        }
      ]
    },
    {
      "cell_type": "markdown",
      "source": [
        "Xác định các dữ liệu đầu vào "
      ],
      "metadata": {
        "id": "tkBK0NmUBrX0"
      }
    },
    {
      "cell_type": "code",
      "source": [
        "# tập dữ liệu có dạng 2, 4 khi tính sẽ xảy ra lỗi. \n",
        "# Class(biến nhãn lớp): 2- cho bệnh lành tính và 4-cho bệnh ác tính\n",
        "# Ta thay đổi class tương tự bằng các nhãn 0,1 \n",
        "X_cancer = data_cancer[(['Clump_Thicknes', \n",
        "                     'Uniformity_of_Cell_Size', 'Uniformity_of_Cell_Shape', \n",
        "                     'Marginal_Adhesion', 'Single_Epithelial_Cell_Size', \n",
        "                     'Bare_Nuclei', 'Bland_Chromatin', 'Normal_Nucleoli',\n",
        "                     'Mitoses'])].values\n",
        "class_cancer = data_cancer['Class']\n",
        "n = len(class_cancer)\n",
        "for i in range(n):\n",
        "  if class_cancer[i] == 2:\n",
        "    class_cancer[i] = 0\n",
        "  else:\n",
        "    class_cancer[i] = 1\n",
        "y_cancer= class_cancer.values\n",
        "print(X_cancer.shape)\n",
        "print(y_cancer.shape)"
      ],
      "metadata": {
        "colab": {
          "base_uri": "https://localhost:8080/"
        },
        "id": "nNS_BthargCq",
        "outputId": "b2958354-cfb6-4715-afe6-7223bb0db61f"
      },
      "execution_count": 26,
      "outputs": [
        {
          "output_type": "stream",
          "name": "stdout",
          "text": [
            "(699, 9)\n",
            "(699,)\n"
          ]
        }
      ]
    },
    {
      "cell_type": "code",
      "source": [
        "#tập dữ liệu sau khi đã được gán nhãn tương ứng \n",
        "print (X_cancer.shape)\n",
        "print(y_cancer)"
      ],
      "metadata": {
        "colab": {
          "base_uri": "https://localhost:8080/"
        },
        "id": "CeMVwMr2Hz_9",
        "outputId": "e4644ed4-e00d-4386-fce5-73cc72e631ea"
      },
      "execution_count": 27,
      "outputs": [
        {
          "output_type": "stream",
          "name": "stdout",
          "text": [
            "(699, 9)\n",
            "[0 0 0 0 0 1 0 0 0 0 0 0 1 0 1 1 0 0 1 0 1 1 0 1 0 1 0 0 0 0 0 0 1 0 0 0 1\n",
            " 0 1 1 0 1 1 1 1 0 1 0 0 1 1 1 1 1 1 1 1 1 1 1 1 0 1 1 0 1 0 1 1 0 0 1 0 1\n",
            " 1 0 0 0 0 0 0 0 0 0 1 1 1 1 0 0 0 0 0 0 0 0 0 0 1 1 1 1 0 1 1 1 1 1 0 1 0\n",
            " 1 1 1 0 0 0 1 0 0 0 0 1 1 1 0 1 0 1 0 0 0 1 0 0 0 0 0 0 0 0 0 1 0 0 0 1 0\n",
            " 0 1 0 1 1 0 0 1 0 0 0 1 1 0 0 0 0 0 1 1 0 0 0 0 0 1 1 1 0 1 0 1 0 0 0 1 1\n",
            " 0 1 1 1 0 1 1 0 0 0 0 0 0 0 0 1 1 0 0 0 1 1 0 0 0 1 1 0 1 1 1 0 0 1 0 0 1\n",
            " 1 1 1 0 1 1 0 1 1 1 0 1 0 0 1 1 1 1 0 0 0 0 0 0 1 1 0 0 0 1 0 1 1 1 0 0 0\n",
            " 0 1 1 1 1 1 0 1 1 1 0 1 0 1 1 0 0 0 0 0 1 0 0 1 1 1 1 1 0 1 1 0 0 1 1 0 1\n",
            " 0 0 0 1 1 0 1 0 1 1 0 0 1 0 0 0 1 0 0 0 1 1 0 0 1 0 0 1 0 0 1 0 1 1 1 0 0\n",
            " 1 1 0 1 0 0 1 1 0 0 0 1 0 0 0 1 1 0 0 0 1 0 0 1 1 1 1 1 1 0 0 0 0 1 1 0 0\n",
            " 0 0 0 0 0 0 0 0 0 0 0 1 0 0 0 0 1 0 0 0 0 1 0 0 0 0 0 0 0 0 1 0 0 0 0 0 0\n",
            " 0 0 0 0 0 1 0 1 0 1 0 0 0 0 1 0 0 0 1 0 1 0 0 0 0 0 0 0 1 1 0 0 0 1 0 0 0\n",
            " 0 0 0 0 0 1 0 0 0 1 0 1 1 1 0 0 0 0 0 0 0 1 1 1 0 0 0 0 0 0 0 0 0 0 0 1 0\n",
            " 0 1 1 0 0 0 1 1 1 0 1 0 1 0 0 0 0 0 0 0 0 0 0 0 0 1 0 0 0 0 0 0 0 1 1 0 0\n",
            " 0 1 0 0 1 1 0 0 0 0 0 0 1 0 0 0 0 0 0 0 0 0 0 0 0 0 0 0 1 0 0 1 0 0 0 0 0\n",
            " 0 0 0 0 0 0 0 0 0 0 1 0 0 1 1 1 1 0 0 1 0 0 0 0 0 0 1 1 0 0 0 1 0 1 0 1 1\n",
            " 1 0 1 0 0 0 0 0 0 0 0 1 1 1 0 0 1 0 1 1 1 0 0 0 0 0 0 0 0 0 0 0 0 0 1 0 0\n",
            " 0 0 0 0 1 0 0 1 0 0 0 0 0 0 0 0 0 0 0 1 0 0 0 0 0 0 0 0 0 1 0 0 0 0 0 0 0\n",
            " 0 0 1 1 1 0 0 0 0 0 0 0 0 0 1 1 0 0 0 0 0 0 0 0 0 1 0 0 0 0 1 1 1]\n"
          ]
        }
      ]
    },
    {
      "cell_type": "markdown",
      "source": [
        "*2. Phân chia train – test theo tỉ lệ 80% - 20% có cần thực hiện xáo trộn dữ liệu hay không?*\n",
        "\n",
        "Trả lời : Phân chia train – test theo tỉ lệ 80% - 20% cần thực hiện xáo trộn dữ liệu"
      ],
      "metadata": {
        "id": "FUY0g2vqAUqE"
      }
    },
    {
      "cell_type": "code",
      "source": [
        "X_train, X_test, y_train, y_test = train_test_split( \n",
        "    X_cancer, y_cancer, test_size=0.2, random_state=4,shuffle=True,stratify=y_cancer)\n",
        "print('Kích thước dữ liệu train - test:')\n",
        "print(\"\\t\\tX train: \", X_train.shape, \"; y train: \",y_train.shape)\n",
        "print(\"\\t\\tX test: \", X_test.shape, \"; y test: \",y_test.shape)"
      ],
      "metadata": {
        "colab": {
          "base_uri": "https://localhost:8080/"
        },
        "id": "RDBX3QFrIrOP",
        "outputId": "f5ab3c04-d460-4c59-a849-eb3b69f0f729"
      },
      "execution_count": 28,
      "outputs": [
        {
          "output_type": "stream",
          "name": "stdout",
          "text": [
            "Kích thước dữ liệu train - test:\n",
            "\t\tX train:  (559, 9) ; y train:  (559,)\n",
            "\t\tX test:  (140, 9) ; y test:  (140,)\n"
          ]
        }
      ]
    },
    {
      "cell_type": "markdown",
      "source": [
        "Huấn luyện mô hình Logistic Regression "
      ],
      "metadata": {
        "id": "bZyZ-nU4UONO"
      }
    },
    {
      "cell_type": "code",
      "source": [
        "lg = LogisticRegression(random_state=0)\n",
        "lg.fit(X_train, y_train)\n",
        "y_pred_lg = lg.predict(X_test)"
      ],
      "metadata": {
        "id": "gcrYE0RgbPnA"
      },
      "execution_count": 34,
      "outputs": []
    },
    {
      "cell_type": "markdown",
      "source": [
        "Huấn luyện mô hình k-NN\n"
      ],
      "metadata": {
        "id": "mzop7iPfUZrO"
      }
    },
    {
      "cell_type": "code",
      "source": [
        "knn_cancer = neighbors.KNeighborsClassifier(n_neighbors = 1, p = 3)\n",
        "knn_cancer.fit(X_train, y_train)\n",
        "y_pred_knn_cancer = knn_cancer.predict(X_test)"
      ],
      "metadata": {
        "id": "bSjr0NvpUb3L"
      },
      "execution_count": 43,
      "outputs": []
    },
    {
      "cell_type": "markdown",
      "source": [
        "Huấn luyện mô hình Naive Bayes "
      ],
      "metadata": {
        "id": "JJYut_AyUnS4"
      }
    },
    {
      "cell_type": "code",
      "source": [
        "mnb_cancer = MultinomialNB()\n",
        "mnb_cancer.fit(X_train, y_train)\n",
        "y_pred_mnb_cancer = mnb_cancer.predict(X_test)"
      ],
      "metadata": {
        "id": "mKUm7WbVUpz1"
      },
      "execution_count": 44,
      "outputs": []
    },
    {
      "cell_type": "markdown",
      "source": [
        "*3. Thông báo kết quả **10-fold CV** của **quá trình huấn luyện** từng mô hình (sử dụng **cross_val_scores**)*"
      ],
      "metadata": {
        "id": "2yYHTN0AUt00"
      }
    },
    {
      "cell_type": "markdown",
      "source": [
        "Cross-validation là một phương pháp kiểm tra độ chính xác của 1 máy học dựa trên một tập dữ liệu học cho trước"
      ],
      "metadata": {
        "id": "CUpdGGywUu3p"
      }
    },
    {
      "cell_type": "markdown",
      "source": [
        "Quá trình huấn luyện mô hình Logistic Regression "
      ],
      "metadata": {
        "id": "ttKKzgxUU1Xi"
      }
    },
    {
      "cell_type": "code",
      "source": [
        "k_fold(lg, X_cancer, y_cancer)"
      ],
      "metadata": {
        "colab": {
          "base_uri": "https://localhost:8080/"
        },
        "id": "T_wK1Gr8l49-",
        "outputId": "7b766935-778e-4103-84b4-c24f0d6df109"
      },
      "execution_count": 32,
      "outputs": [
        {
          "output_type": "stream",
          "name": "stdout",
          "text": [
            "* Chi tiết các fold\n",
            "> Fold 1  - Accuracy: 0.9142857142857143\n",
            "> Fold 2  - Accuracy: 0.9714285714285714\n",
            "> Fold 3  - Accuracy: 0.9571428571428572\n",
            "> Fold 4  - Accuracy: 0.9142857142857143\n",
            "> Fold 5  - Accuracy: 1.0\n",
            "> Fold 6  - Accuracy: 0.9714285714285714\n",
            "> Fold 7  - Accuracy: 0.9714285714285714\n",
            "> Fold 8  - Accuracy: 1.0\n",
            "> Fold 9  - Accuracy: 0.9714285714285714\n",
            "> Fold 10  - Accuracy: 1.0\n",
            "* Đánh giá tổng thể các folds: \n",
            "> Accuracy: 0.9671428571428571 (Độ lệch +- 0.03000000000000001)\n"
          ]
        }
      ]
    },
    {
      "cell_type": "markdown",
      "source": [
        "Quá trình huấn luyện mô hình k-NN "
      ],
      "metadata": {
        "id": "u9KuZ7c6Uxd3"
      }
    },
    {
      "cell_type": "code",
      "source": [
        "k_fold(knn_cancer,X_cancer,y_cancer)"
      ],
      "metadata": {
        "colab": {
          "base_uri": "https://localhost:8080/"
        },
        "id": "rR_usP2XXF9G",
        "outputId": "eed7e8f5-0a73-44c9-b71f-f982cc7191d8"
      },
      "execution_count": 36,
      "outputs": [
        {
          "output_type": "stream",
          "name": "stdout",
          "text": [
            "* Chi tiết các fold\n",
            "> Fold 1  - Accuracy: 0.8571428571428571\n",
            "> Fold 2  - Accuracy: 0.9142857142857143\n",
            "> Fold 3  - Accuracy: 0.9714285714285714\n",
            "> Fold 4  - Accuracy: 0.9\n",
            "> Fold 5  - Accuracy: 0.9714285714285714\n",
            "> Fold 6  - Accuracy: 0.9285714285714286\n",
            "> Fold 7  - Accuracy: 0.9857142857142858\n",
            "> Fold 8  - Accuracy: 1.0\n",
            "> Fold 9  - Accuracy: 0.9857142857142858\n",
            "> Fold 10  - Accuracy: 0.9565217391304348\n",
            "* Đánh giá tổng thể các folds: \n",
            "> Accuracy: 0.947080745341615 (Độ lệch +- 0.04334033135074688)\n"
          ]
        }
      ]
    },
    {
      "cell_type": "markdown",
      "source": [
        "Quá trình huấn luyện Naive Bayes "
      ],
      "metadata": {
        "id": "SmsmXi8PXbhH"
      }
    },
    {
      "cell_type": "code",
      "source": [
        "k_fold(mnb_cancer,X_cancer,y_cancer)"
      ],
      "metadata": {
        "colab": {
          "base_uri": "https://localhost:8080/"
        },
        "id": "W14DuRQKXez_",
        "outputId": "2bd7ba6a-94f5-469e-9613-3299c07fd0ce"
      },
      "execution_count": 38,
      "outputs": [
        {
          "output_type": "stream",
          "name": "stdout",
          "text": [
            "* Chi tiết các fold\n",
            "> Fold 1  - Accuracy: 0.8285714285714286\n",
            "> Fold 2  - Accuracy: 0.7714285714285715\n",
            "> Fold 3  - Accuracy: 0.8857142857142857\n",
            "> Fold 4  - Accuracy: 0.9142857142857143\n",
            "> Fold 5  - Accuracy: 0.9\n",
            "> Fold 6  - Accuracy: 0.8142857142857143\n",
            "> Fold 7  - Accuracy: 0.8857142857142857\n",
            "> Fold 8  - Accuracy: 0.9428571428571428\n",
            "> Fold 9  - Accuracy: 0.9428571428571428\n",
            "> Fold 10  - Accuracy: 0.9565217391304348\n",
            "* Đánh giá tổng thể các folds: \n",
            "> Accuracy: 0.8842236024844722 (Độ lệch +- 0.05828470290830891)\n"
          ]
        }
      ]
    },
    {
      "cell_type": "markdown",
      "source": [
        "*4. Dựa vào kết quả dự đoán của từng mô hình - ŷ và tập dữ liệu kiểm chứng - y$_{test}$, hãy:*"
      ],
      "metadata": {
        "id": "CNZm4r26XltF"
      }
    },
    {
      "cell_type": "markdown",
      "source": [
        "a. Đánh giá hiệu năng của từng mô hình theo các bộ chỉ số: (i) accuracy; (ii) precision;\n",
        "(iii) recall; và (iv) f1-measure."
      ],
      "metadata": {
        "id": "3xd7vuEEXmPa"
      }
    },
    {
      "cell_type": "markdown",
      "source": [
        "Đánh giá hiệu năng mô hình Logistic Regression "
      ],
      "metadata": {
        "id": "5mxiqRS-Xpa3"
      }
    },
    {
      "cell_type": "code",
      "source": [
        "i_lg,ii_lg,iii_lg,iv_lg= danh_gia_mo_hinh(y_test,y_pred_lg)\n",
        "print(\"Đánh giá hiệu năng của từng mô hình theo các bộ chỉ số(i) accuracy:\",i_knn)\n",
        "print(\"Đánh giá hiệu năng của từng mô hình theo các bộ chỉ số(ii) precision:\",ii_knn)\n",
        "print(\"Đánh giá hiệu năng của từng mô hình theo các bộ chỉ số(iii) recall:\",iii_knn) \n",
        "print(\"Đánh giá hiệu năng của từng mô hình theo các bộ chỉ số(iv) f1-measure:\",iv_knn)"
      ],
      "metadata": {
        "colab": {
          "base_uri": "https://localhost:8080/"
        },
        "id": "j3gJWZTVXuIb",
        "outputId": "8bc8fed8-1179-4eff-dd73-6da69c9de785"
      },
      "execution_count": 73,
      "outputs": [
        {
          "output_type": "stream",
          "name": "stdout",
          "text": [
            "Đánh giá hiệu năng của từng mô hình theo các bộ chỉ số(i) accuracy: 0.9214285714285714\n",
            "Đánh giá hiệu năng của từng mô hình theo các bộ chỉ số(ii) precision: [0.92631579 0.91111111]\n",
            "Đánh giá hiệu năng của từng mô hình theo các bộ chỉ số(iii) recall: [0.95652174 0.85416667]\n",
            "Đánh giá hiệu năng của từng mô hình theo các bộ chỉ số(iv) f1-measure: [0.9411764705882354, 0.8817204301075269]\n"
          ]
        }
      ]
    },
    {
      "cell_type": "markdown",
      "source": [
        "Đánh giá hiệu năng mô hình k-NN "
      ],
      "metadata": {
        "id": "juowEu33YDud"
      }
    },
    {
      "cell_type": "code",
      "source": [
        "i_knn,ii_knn,iii_knn,iv_knn= danh_gia_mo_hinh(y_test,y_pred_knn_cancer)\n",
        "print(\"Đánh giá hiệu năng của từng mô hình theo các bộ chỉ số(i) accuracy:\",i_knn)\n",
        "print(\"Đánh giá hiệu năng của từng mô hình theo các bộ chỉ số(ii) precision:\",ii_knn)\n",
        "print(\"Đánh giá hiệu năng của từng mô hình theo các bộ chỉ số(iii) recall:\",iii_knn) \n",
        "print(\"Đánh giá hiệu năng của từng mô hình theo các bộ chỉ số(iv) f1-measure:\",iv_knn)"
      ],
      "metadata": {
        "colab": {
          "base_uri": "https://localhost:8080/"
        },
        "id": "KhXl5n9UYClT",
        "outputId": "c5f5e9eb-6df1-4e98-b1b5-9099d7aba90c"
      },
      "execution_count": 46,
      "outputs": [
        {
          "output_type": "stream",
          "name": "stdout",
          "text": [
            "Đánh giá hiệu năng của từng mô hình theo các bộ chỉ số(i) accuracy: 0.9571428571428572\n",
            "Đánh giá hiệu năng của từng mô hình theo các bộ chỉ số(ii) precision: [0.9673913 0.9375   ]\n",
            "Đánh giá hiệu năng của từng mô hình theo các bộ chỉ số(iii) recall: [0.9673913 0.9375   ]\n",
            "Đánh giá hiệu năng của từng mô hình theo các bộ chỉ số(iv) f1-measure: [0.967391304347826, 0.9375]\n"
          ]
        }
      ]
    },
    {
      "cell_type": "markdown",
      "source": [
        "Đánh giá hiệu năng mô hình Naive Bayes "
      ],
      "metadata": {
        "id": "hK_MdWSZYIQT"
      }
    },
    {
      "cell_type": "code",
      "source": [
        "i_knn,ii_knn,iii_knn,iv_knn= danh_gia_mo_hinh(y_test,y_pred_mnb_cancer)\n",
        "print(\"Đánh giá hiệu năng của từng mô hình theo các bộ chỉ số(i) accuracy:\",i_knn)\n",
        "print(\"Đánh giá hiệu năng của từng mô hình theo các bộ chỉ số(ii) precision:\",ii_knn)\n",
        "print(\"Đánh giá hiệu năng của từng mô hình theo các bộ chỉ số(iii) recall:\",iii_knn) \n",
        "print(\"Đánh giá hiệu năng của từng mô hình theo các bộ chỉ số(iv) f1-measure:\",iv_knn)"
      ],
      "metadata": {
        "colab": {
          "base_uri": "https://localhost:8080/"
        },
        "id": "XtbuvU9nYC48",
        "outputId": "9fed1d9f-5d1c-421e-f8a6-cc842badec8d"
      },
      "execution_count": 47,
      "outputs": [
        {
          "output_type": "stream",
          "name": "stdout",
          "text": [
            "Đánh giá hiệu năng của từng mô hình theo các bộ chỉ số(i) accuracy: 0.9214285714285714\n",
            "Đánh giá hiệu năng của từng mô hình theo các bộ chỉ số(ii) precision: [0.92631579 0.91111111]\n",
            "Đánh giá hiệu năng của từng mô hình theo các bộ chỉ số(iii) recall: [0.95652174 0.85416667]\n",
            "Đánh giá hiệu năng của từng mô hình theo các bộ chỉ số(iv) f1-measure: [0.9411764705882354, 0.8817204301075269]\n"
          ]
        }
      ]
    },
    {
      "cell_type": "markdown",
      "source": [
        "b. Vẽ bảng ghi kết quả so sánh các chỉ số trên của từng mô hình"
      ],
      "metadata": {
        "id": "OFFynuPQYxtc"
      }
    },
    {
      "cell_type": "code",
      "source": [
        "#báo cáo phân lớp tổng hợp của mô hình logistic regression \n",
        "target_names = ['class 0', 'class 1']\n",
        "report3 = classification_report(y_test, y_pred_lg, target_names=target_names)\n",
        "print(report3)"
      ],
      "metadata": {
        "colab": {
          "base_uri": "https://localhost:8080/"
        },
        "id": "9WAJrflubA5G",
        "outputId": "df9d9870-ae27-4c1d-98eb-ae1103d22024"
      },
      "execution_count": 70,
      "outputs": [
        {
          "output_type": "stream",
          "name": "stdout",
          "text": [
            "              precision    recall  f1-score   support\n",
            "\n",
            "     class 0       0.96      0.97      0.96        92\n",
            "     class 1       0.94      0.92      0.93        48\n",
            "\n",
            "    accuracy                           0.95       140\n",
            "   macro avg       0.95      0.94      0.94       140\n",
            "weighted avg       0.95      0.95      0.95       140\n",
            "\n"
          ]
        }
      ]
    },
    {
      "cell_type": "code",
      "source": [
        "#báo cáo phân lớp tổng hợp của mô hình k-NN \n",
        "report4 = classification_report(y_test, y_pred_knn_cancer, target_names=target_names)\n",
        "print(report4)"
      ],
      "metadata": {
        "colab": {
          "base_uri": "https://localhost:8080/"
        },
        "id": "lcUy9QGyYzys",
        "outputId": "34da7b63-1db5-475b-d9b3-e3a7e74917fa"
      },
      "execution_count": 71,
      "outputs": [
        {
          "output_type": "stream",
          "name": "stdout",
          "text": [
            "              precision    recall  f1-score   support\n",
            "\n",
            "     class 0       0.97      0.97      0.97        92\n",
            "     class 1       0.94      0.94      0.94        48\n",
            "\n",
            "    accuracy                           0.96       140\n",
            "   macro avg       0.95      0.95      0.95       140\n",
            "weighted avg       0.96      0.96      0.96       140\n",
            "\n"
          ]
        }
      ]
    },
    {
      "cell_type": "code",
      "source": [
        "#báo cáo phân lớp tổng hợp của mô hình Naive Bayes \n",
        "report5 = classification_report(y_test, y_pred_mnb_cancer, target_names=target_names)\n",
        "print(report5)"
      ],
      "metadata": {
        "colab": {
          "base_uri": "https://localhost:8080/"
        },
        "id": "JBNyrAPPY8dF",
        "outputId": "7914eab7-0029-421b-97a6-0fdf57fdcc5c"
      },
      "execution_count": 72,
      "outputs": [
        {
          "output_type": "stream",
          "name": "stdout",
          "text": [
            "              precision    recall  f1-score   support\n",
            "\n",
            "     class 0       0.93      0.96      0.94        92\n",
            "     class 1       0.91      0.85      0.88        48\n",
            "\n",
            "    accuracy                           0.92       140\n",
            "   macro avg       0.92      0.91      0.91       140\n",
            "weighted avg       0.92      0.92      0.92       140\n",
            "\n"
          ]
        }
      ]
    },
    {
      "cell_type": "code",
      "source": [
        "#bảng ghi kết quả so sánh các chỉ số trên của từng mô hình\n",
        "danh_gia_knn = [i_knn, ii_knn, iii_knn, iv_knn]\n",
        "danh_gia_mnb = [i_nb, ii_nb, iii_nb, iv_nb]\n",
        "danh_gia_lg = [i_lg,ii_lg,iii_lg,iv_lg]\n",
        "data = {'k-NN': danh_gia_knn, \n",
        "        'Naive Bayes': danh_gia_mnb,\n",
        "        'Logistic Regression': danh_gia_lg }\n",
        "id = ['accuracy (so sánh giữa 2 mô hình)', 'precision (so sánh giữa các nhãn lớp)', 'recall (so sánh giữa các nhãn lớp)', 'f1-measure (so sánh giữa các nhãn lớp)']\n",
        "df_cancer = pd.DataFrame(data=data, index = id)\n",
        "df_cancer"
      ],
      "metadata": {
        "colab": {
          "base_uri": "https://localhost:8080/",
          "height": 219
        },
        "id": "XJCzHyElZtU3",
        "outputId": "d47fdef0-1a7c-4788-be61-6cab158c855f"
      },
      "execution_count": 74,
      "outputs": [
        {
          "output_type": "execute_result",
          "data": {
            "text/plain": [
              "                                                                            k-NN  \\\n",
              "accuracy (so sánh giữa 2 mô hình)                                       0.921429   \n",
              "precision (so sánh giữa các nhãn lớp)   [0.9263157894736842, 0.9111111111111111]   \n",
              "recall (so sánh giữa các nhãn lớp)      [0.9565217391304348, 0.8541666666666666]   \n",
              "f1-measure (so sánh giữa các nhãn lớp)  [0.9411764705882354, 0.8817204301075269]   \n",
              "\n",
              "                                                                              Naive Bayes  \\\n",
              "accuracy (so sánh giữa 2 mô hình)                                                0.888889   \n",
              "precision (so sánh giữa các nhãn lớp)       [1.0, 0.8666666666666667, 0.8181818181818182]   \n",
              "recall (so sánh giữa các nhãn lớp)          [0.8333333333333334, 0.9285714285714286, 0.9]   \n",
              "f1-measure (so sánh giữa các nhãn lớp)  [0.9090909090909091, 0.896551724137931, 0.8571...   \n",
              "\n",
              "                                                             Logistic Regression  \n",
              "accuracy (so sánh giữa 2 mô hình)                                           0.95  \n",
              "precision (so sánh giữa các nhãn lớp)    [0.956989247311828, 0.9361702127659575]  \n",
              "recall (so sánh giữa các nhãn lớp)       [0.967391304347826, 0.9166666666666666]  \n",
              "f1-measure (so sánh giữa các nhãn lớp)  [0.9621621621621621, 0.9263157894736843]  "
            ],
            "text/html": [
              "\n",
              "  <div id=\"df-535fe734-bf0d-4a48-9844-fd566f5b5a7b\">\n",
              "    <div class=\"colab-df-container\">\n",
              "      <div>\n",
              "<style scoped>\n",
              "    .dataframe tbody tr th:only-of-type {\n",
              "        vertical-align: middle;\n",
              "    }\n",
              "\n",
              "    .dataframe tbody tr th {\n",
              "        vertical-align: top;\n",
              "    }\n",
              "\n",
              "    .dataframe thead th {\n",
              "        text-align: right;\n",
              "    }\n",
              "</style>\n",
              "<table border=\"1\" class=\"dataframe\">\n",
              "  <thead>\n",
              "    <tr style=\"text-align: right;\">\n",
              "      <th></th>\n",
              "      <th>k-NN</th>\n",
              "      <th>Naive Bayes</th>\n",
              "      <th>Logistic Regression</th>\n",
              "    </tr>\n",
              "  </thead>\n",
              "  <tbody>\n",
              "    <tr>\n",
              "      <th>accuracy (so sánh giữa 2 mô hình)</th>\n",
              "      <td>0.921429</td>\n",
              "      <td>0.888889</td>\n",
              "      <td>0.95</td>\n",
              "    </tr>\n",
              "    <tr>\n",
              "      <th>precision (so sánh giữa các nhãn lớp)</th>\n",
              "      <td>[0.9263157894736842, 0.9111111111111111]</td>\n",
              "      <td>[1.0, 0.8666666666666667, 0.8181818181818182]</td>\n",
              "      <td>[0.956989247311828, 0.9361702127659575]</td>\n",
              "    </tr>\n",
              "    <tr>\n",
              "      <th>recall (so sánh giữa các nhãn lớp)</th>\n",
              "      <td>[0.9565217391304348, 0.8541666666666666]</td>\n",
              "      <td>[0.8333333333333334, 0.9285714285714286, 0.9]</td>\n",
              "      <td>[0.967391304347826, 0.9166666666666666]</td>\n",
              "    </tr>\n",
              "    <tr>\n",
              "      <th>f1-measure (so sánh giữa các nhãn lớp)</th>\n",
              "      <td>[0.9411764705882354, 0.8817204301075269]</td>\n",
              "      <td>[0.9090909090909091, 0.896551724137931, 0.8571...</td>\n",
              "      <td>[0.9621621621621621, 0.9263157894736843]</td>\n",
              "    </tr>\n",
              "  </tbody>\n",
              "</table>\n",
              "</div>\n",
              "      <button class=\"colab-df-convert\" onclick=\"convertToInteractive('df-535fe734-bf0d-4a48-9844-fd566f5b5a7b')\"\n",
              "              title=\"Convert this dataframe to an interactive table.\"\n",
              "              style=\"display:none;\">\n",
              "        \n",
              "  <svg xmlns=\"http://www.w3.org/2000/svg\" height=\"24px\"viewBox=\"0 0 24 24\"\n",
              "       width=\"24px\">\n",
              "    <path d=\"M0 0h24v24H0V0z\" fill=\"none\"/>\n",
              "    <path d=\"M18.56 5.44l.94 2.06.94-2.06 2.06-.94-2.06-.94-.94-2.06-.94 2.06-2.06.94zm-11 1L8.5 8.5l.94-2.06 2.06-.94-2.06-.94L8.5 2.5l-.94 2.06-2.06.94zm10 10l.94 2.06.94-2.06 2.06-.94-2.06-.94-.94-2.06-.94 2.06-2.06.94z\"/><path d=\"M17.41 7.96l-1.37-1.37c-.4-.4-.92-.59-1.43-.59-.52 0-1.04.2-1.43.59L10.3 9.45l-7.72 7.72c-.78.78-.78 2.05 0 2.83L4 21.41c.39.39.9.59 1.41.59.51 0 1.02-.2 1.41-.59l7.78-7.78 2.81-2.81c.8-.78.8-2.07 0-2.86zM5.41 20L4 18.59l7.72-7.72 1.47 1.35L5.41 20z\"/>\n",
              "  </svg>\n",
              "      </button>\n",
              "      \n",
              "  <style>\n",
              "    .colab-df-container {\n",
              "      display:flex;\n",
              "      flex-wrap:wrap;\n",
              "      gap: 12px;\n",
              "    }\n",
              "\n",
              "    .colab-df-convert {\n",
              "      background-color: #E8F0FE;\n",
              "      border: none;\n",
              "      border-radius: 50%;\n",
              "      cursor: pointer;\n",
              "      display: none;\n",
              "      fill: #1967D2;\n",
              "      height: 32px;\n",
              "      padding: 0 0 0 0;\n",
              "      width: 32px;\n",
              "    }\n",
              "\n",
              "    .colab-df-convert:hover {\n",
              "      background-color: #E2EBFA;\n",
              "      box-shadow: 0px 1px 2px rgba(60, 64, 67, 0.3), 0px 1px 3px 1px rgba(60, 64, 67, 0.15);\n",
              "      fill: #174EA6;\n",
              "    }\n",
              "\n",
              "    [theme=dark] .colab-df-convert {\n",
              "      background-color: #3B4455;\n",
              "      fill: #D2E3FC;\n",
              "    }\n",
              "\n",
              "    [theme=dark] .colab-df-convert:hover {\n",
              "      background-color: #434B5C;\n",
              "      box-shadow: 0px 1px 3px 1px rgba(0, 0, 0, 0.15);\n",
              "      filter: drop-shadow(0px 1px 2px rgba(0, 0, 0, 0.3));\n",
              "      fill: #FFFFFF;\n",
              "    }\n",
              "  </style>\n",
              "\n",
              "      <script>\n",
              "        const buttonEl =\n",
              "          document.querySelector('#df-535fe734-bf0d-4a48-9844-fd566f5b5a7b button.colab-df-convert');\n",
              "        buttonEl.style.display =\n",
              "          google.colab.kernel.accessAllowed ? 'block' : 'none';\n",
              "\n",
              "        async function convertToInteractive(key) {\n",
              "          const element = document.querySelector('#df-535fe734-bf0d-4a48-9844-fd566f5b5a7b');\n",
              "          const dataTable =\n",
              "            await google.colab.kernel.invokeFunction('convertToInteractive',\n",
              "                                                     [key], {});\n",
              "          if (!dataTable) return;\n",
              "\n",
              "          const docLinkHtml = 'Like what you see? Visit the ' +\n",
              "            '<a target=\"_blank\" href=https://colab.research.google.com/notebooks/data_table.ipynb>data table notebook</a>'\n",
              "            + ' to learn more about interactive tables.';\n",
              "          element.innerHTML = '';\n",
              "          dataTable['output_type'] = 'display_data';\n",
              "          await google.colab.output.renderOutput(dataTable, element);\n",
              "          const docLink = document.createElement('div');\n",
              "          docLink.innerHTML = docLinkHtml;\n",
              "          element.appendChild(docLink);\n",
              "        }\n",
              "      </script>\n",
              "    </div>\n",
              "  </div>\n",
              "  "
            ]
          },
          "metadata": {},
          "execution_count": 74
        }
      ]
    },
    {
      "cell_type": "markdown",
      "source": [
        "Trực quan tập dữ liệu "
      ],
      "metadata": {
        "id": "txPb3s78Z357"
      }
    },
    {
      "cell_type": "code",
      "source": [
        "def truc_quan_kq(y_test, y_pred_knn):\n",
        "  conf_matrix = confusion_matrix(y_true=y_test, y_pred=y_pred_knn)\n",
        "  #sử dụng Matplotlib để vẽ confusion matrix \n",
        "  fig, ax = plt.subplots(figsize=(5, 5))\n",
        "  ax.matshow(conf_matrix, cmap=plt.cm.Oranges, alpha=0.3)\n",
        "  for i in range(conf_matrix.shape[0]):\n",
        "      for j in range(conf_matrix.shape[1]):\n",
        "          ax.text(x=j, y=i,s=conf_matrix[i, j], va='center', ha='center', size='xx-large')\n",
        "  plt.xlabel('Dự đoán', fontsize=18)\n",
        "  plt.ylabel('Label', fontsize=18)\n",
        "  plt.title('Confusion Matrix', fontsize=18)\n",
        "  plt.show()"
      ],
      "metadata": {
        "id": "AIFL3NsaZ6Xl"
      },
      "execution_count": 62,
      "outputs": []
    },
    {
      "cell_type": "code",
      "source": [
        "truc_quan_kq(y_test, y_pred_lg)"
      ],
      "metadata": {
        "colab": {
          "base_uri": "https://localhost:8080/",
          "height": 358
        },
        "id": "2yfU6poJcLh-",
        "outputId": "2a776814-4a2b-4b63-9f25-a494e2469ee8"
      },
      "execution_count": 75,
      "outputs": [
        {
          "output_type": "display_data",
          "data": {
            "text/plain": [
              "<Figure size 360x360 with 1 Axes>"
            ],
            "image/png": "[encoded data removed]"
          },
          "metadata": {
            "needs_background": "light"
          }
        }
      ]
    },
    {
      "cell_type": "code",
      "source": [
        "truc_quan_kq(y_test, y_pred_knn_cancer)"
      ],
      "metadata": {
        "colab": {
          "base_uri": "https://localhost:8080/",
          "height": 358
        },
        "id": "eaMR0RXvaI42",
        "outputId": "36bf62bb-997d-406d-c19d-e532b88caf6a"
      },
      "execution_count": 63,
      "outputs": [
        {
          "output_type": "display_data",
          "data": {
            "text/plain": [
              "<Figure size 360x360 with 1 Axes>"
            ],
            "image/png": "[encoded data removed]"
          },
          "metadata": {
            "needs_background": "light"
          }
        }
      ]
    },
    {
      "cell_type": "code",
      "source": [
        "truc_quan_kq(y_test, y_pred_mnb_cancer)"
      ],
      "metadata": {
        "colab": {
          "base_uri": "https://localhost:8080/",
          "height": 358
        },
        "id": "Xza6ZwFYaSAE",
        "outputId": "5d8311f1-a27b-46da-dff0-3c48a3ea32a8"
      },
      "execution_count": 64,
      "outputs": [
        {
          "output_type": "display_data",
          "data": {
            "text/plain": [
              "<Figure size 360x360 with 1 Axes>"
            ],
            "image/png": "[encoded data removed]"
          },
          "metadata": {
            "needs_background": "light"
          }
        }
      ]
    },
    {
      "cell_type": "markdown",
      "source": [
        "c. Xác định mô hình vượt trội?\n",
        "\n",
        "Sau quá trình huấn luyện, đánh giá hiệu năng và vẽ bảng so sánh kết quả của từng mô hình. \n",
        "\n",
        "Ta thấy được *mô hình Logistic Regression* **vượt trội hơn** *mô hình k-NN* và *mô hình Naive Bayes* đối với tập dữ liệu breast_cancer.data"
      ],
      "metadata": {
        "id": "c2wYEmkRalW6"
      }
    }
  ]
}